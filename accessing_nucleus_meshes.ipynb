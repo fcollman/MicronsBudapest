{
 "cells": [
  {
   "cell_type": "code",
   "execution_count": 9,
   "id": "e5a56e0d",
   "metadata": {},
   "outputs": [],
   "source": [
    "import caveclient\n",
    "import cloudvolume"
   ]
  },
  {
   "cell_type": "code",
   "execution_count": 2,
   "id": "17a24b5b",
   "metadata": {},
   "outputs": [],
   "source": [
    "client =caveclient.CAVEclient('minnie65_phase3_v1')"
   ]
  },
  {
   "cell_type": "code",
   "execution_count": 4,
   "id": "c412befa",
   "metadata": {},
   "outputs": [
    {
     "data": {
      "text/plain": [
       "['bodor_pt_cells',\n",
       " 'column_excitatory_subgroups_pheno',\n",
       " 'slant_data_subtypes',\n",
       " 'proofreading_functional_coreg_v2',\n",
       " 'proofreading_functional_coreg',\n",
       " 'nucleus_neuron_svm',\n",
       " 'functional_coreg',\n",
       " 'allen_v1_column_thalamic',\n",
       " 'allen_column_l5it_types',\n",
       " 'allen_column_basket_molecular',\n",
       " 'allen_column_bodor_surround_inhib',\n",
       " 'proofreading_status_public_release',\n",
       " 'func_unit_em_match_release',\n",
       " 'aibs_column_nonneuronal',\n",
       " 'pt_synapse_targets',\n",
       " 'cg_cell_type_calls',\n",
       " 'l5_mc_cg',\n",
       " 'baylor_e_i_model_v1',\n",
       " 'allen_neuron_nonneuron_svm_v0',\n",
       " 'allen_class_type_svm_v0',\n",
       " 'allen_subclass_type_svm_v0',\n",
       " 'allen_v1_column_pyc_proof',\n",
       " 'allen_v1_column_types_slanted',\n",
       " 'allen_minnie_extra_types',\n",
       " 'allen_v1_column_types_v3',\n",
       " 'allen_v1_column_types_v2',\n",
       " 'allen_v1_column_proofreading',\n",
       " 'allen_soma_coarse_cell_class_model_v2',\n",
       " 'allen_soma_coarse_cell_class_model_v1',\n",
       " 'synapses_pni_2',\n",
       " 'nucleus_detection_v0']"
      ]
     },
     "execution_count": 4,
     "metadata": {},
     "output_type": "execute_result"
    }
   ],
   "source": [
    "client.materialize.get_tables()"
   ]
  },
  {
   "cell_type": "code",
   "execution_count": 6,
   "id": "8d3d83ac",
   "metadata": {},
   "outputs": [],
   "source": [
    "md=client.materialize.get_table_metadata('nucleus_detection_v0')"
   ]
  },
  {
   "cell_type": "code",
   "execution_count": 8,
   "id": "c1131e04",
   "metadata": {},
   "outputs": [],
   "source": [
    "nuc_cloud_path=md['flat_segmentation_source']"
   ]
  },
  {
   "cell_type": "code",
   "execution_count": 10,
   "id": "84ccfb27",
   "metadata": {},
   "outputs": [],
   "source": [
    "cv = cloudvolume.CloudVolume(nuc_cloud_path, use_https=True)"
   ]
  },
  {
   "cell_type": "code",
   "execution_count": 11,
   "id": "d8b964c1",
   "metadata": {},
   "outputs": [],
   "source": [
    "nuc_id = 258217"
   ]
  },
  {
   "cell_type": "code",
   "execution_count": 12,
   "id": "1e684a5e",
   "metadata": {},
   "outputs": [
    {
     "data": {
      "text/html": [
       "<div>\n",
       "<style scoped>\n",
       "    .dataframe tbody tr th:only-of-type {\n",
       "        vertical-align: middle;\n",
       "    }\n",
       "\n",
       "    .dataframe tbody tr th {\n",
       "        vertical-align: top;\n",
       "    }\n",
       "\n",
       "    .dataframe thead th {\n",
       "        text-align: right;\n",
       "    }\n",
       "</style>\n",
       "<table border=\"1\" class=\"dataframe\">\n",
       "  <thead>\n",
       "    <tr style=\"text-align: right;\">\n",
       "      <th></th>\n",
       "      <th>id</th>\n",
       "      <th>valid</th>\n",
       "      <th>volume</th>\n",
       "      <th>pt_supervoxel_id</th>\n",
       "      <th>pt_root_id</th>\n",
       "      <th>pt_position</th>\n",
       "      <th>bb_start_position</th>\n",
       "      <th>bb_end_position</th>\n",
       "    </tr>\n",
       "  </thead>\n",
       "  <tbody>\n",
       "    <tr>\n",
       "      <th>0</th>\n",
       "      <td>258217</td>\n",
       "      <td>t</td>\n",
       "      <td>307.252593</td>\n",
       "      <td>88393863664263239</td>\n",
       "      <td>864691135445988754</td>\n",
       "      <td>[171920, 140624, 20945]</td>\n",
       "      <td>[nan, nan, nan]</td>\n",
       "      <td>[nan, nan, nan]</td>\n",
       "    </tr>\n",
       "  </tbody>\n",
       "</table>\n",
       "</div>"
      ],
      "text/plain": [
       "       id valid      volume   pt_supervoxel_id          pt_root_id  \\\n",
       "0  258217     t  307.252593  88393863664263239  864691135445988754   \n",
       "\n",
       "               pt_position bb_start_position  bb_end_position  \n",
       "0  [171920, 140624, 20945]   [nan, nan, nan]  [nan, nan, nan]  "
      ]
     },
     "execution_count": 12,
     "metadata": {},
     "output_type": "execute_result"
    }
   ],
   "source": [
    "client.materialize.query_table('nucleus_detection_v0', filter_equal_dict={'id':nuc_id})"
   ]
  },
  {
   "cell_type": "code",
   "execution_count": null,
   "id": "353b5fc2",
   "metadata": {},
   "outputs": [],
   "source": [
    "client.materialize.query_table('nucleus_detection_v0'"
   ]
  }
 ],
 "metadata": {
  "kernelspec": {
   "display_name": "Python 3 (ipykernel)",
   "language": "python",
   "name": "python3"
  },
  "language_info": {
   "codemirror_mode": {
    "name": "ipython",
    "version": 3
   },
   "file_extension": ".py",
   "mimetype": "text/x-python",
   "name": "python",
   "nbconvert_exporter": "python",
   "pygments_lexer": "ipython3",
   "version": "3.9.0"
  }
 },
 "nbformat": 4,
 "nbformat_minor": 5
}
