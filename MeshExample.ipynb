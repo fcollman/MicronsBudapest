{
 "cells": [
  {
   "cell_type": "markdown",
   "metadata": {},
   "source": [
    "# Mesh example\n",
    "This demonstrates basic 3D visualization of meshes and skeletons using vtk, as well as calculating shortest paths along a mesh.  \n",
    "<span style=\"background-color: #aaaaaa\">**NOTE:**</span> This example uses more memory than allocated to most binder instances, and may be killed during processing using those resources."
   ]
  },
  {
   "cell_type": "code",
   "execution_count": 22,
   "metadata": {},
   "outputs": [],
   "source": [
    "from meshparty import trimesh_io, trimesh_vtk, skeleton, utils\n",
    "import matplotlib.pyplot as plt\n",
    "import pandas as pd\n",
    "import numpy as np\n",
    "from caveclient import CAVEclient"
   ]
  },
  {
   "cell_type": "code",
   "execution_count": 23,
   "metadata": {},
   "outputs": [],
   "source": [
    "client = CAVEclient('minnie65_phase3_v1')"
   ]
  },
  {
   "cell_type": "code",
   "execution_count": 24,
   "metadata": {},
   "outputs": [],
   "source": [
    "# to enable a cache, create a MeshMeta object\n",
    "mm = trimesh_io.MeshMeta(cv_path = client.info.segmentation_source(),\n",
    "                         disk_cache_path='minnie65_v117_meshes',\n",
    "                         map_gs_to_https=True)"
   ]
  },
  {
   "cell_type": "code",
   "execution_count": 25,
   "metadata": {},
   "outputs": [],
   "source": [
    "# pick your favorite segid from neuroglancer, you can copy paste\n",
    "# IDs by right clicking on segmentation layer\n",
    "# right hand panel shows selectedIDs with copy buttons\n",
    "seg_id = 864691135730638521\n"
   ]
  },
  {
   "cell_type": "code",
   "execution_count": 26,
   "metadata": {},
   "outputs": [],
   "source": [
    "# this will download the mesh via cloudvolume \n",
    "# and convert it to a Mesh object (an extension of trimesh)\n",
    "# https://github.com/mikedh/trimesh\n",
    "# see MeshParty docs https://meshparty.readthedocs.io/en/latest/?badge=latest\n",
    "# for more information\n",
    "mesh = mm.mesh(seg_id=seg_id, remove_duplicate_vertices=True)"
   ]
  },
  {
   "cell_type": "code",
   "execution_count": 27,
   "metadata": {},
   "outputs": [
    {
     "data": {
      "text/plain": [
       "(6172497, 12378010)"
      ]
     },
     "execution_count": 27,
     "metadata": {},
     "output_type": "execute_result"
    }
   ],
   "source": [
    "# mesh has 2.1 million vertices, and 4.1 million triangular faces\n",
    "mesh.n_vertices, mesh.n_faces"
   ]
  },
  {
   "cell_type": "code",
   "execution_count": 28,
   "metadata": {},
   "outputs": [
    {
     "name": "stdout",
     "output_type": "stream",
     "text": [
      "setting up renderer\n",
      "done setting up\n",
      "actors added\n",
      "camera set\n",
      "render done\n"
     ]
    },
    {
     "ename": "KeyboardInterrupt",
     "evalue": "",
     "output_type": "error",
     "traceback": [
      "\u001b[0;31m---------------------------------------------------------------------------\u001b[0m",
      "\u001b[0;31mKeyboardInterrupt\u001b[0m                         Traceback (most recent call last)",
      "\u001b[0;32m/var/folders/kx/xq42kw197c5_qw6kxgnr4nkr0000gq/T/ipykernel_30460/2715472295.py\u001b[0m in \u001b[0;36m<module>\u001b[0;34m\u001b[0m\n\u001b[1;32m      1\u001b[0m \u001b[0mma\u001b[0m \u001b[0;34m=\u001b[0m \u001b[0mtrimesh_vtk\u001b[0m\u001b[0;34m.\u001b[0m\u001b[0mmesh_actor\u001b[0m\u001b[0;34m(\u001b[0m\u001b[0mmesh\u001b[0m\u001b[0;34m)\u001b[0m\u001b[0;34m\u001b[0m\u001b[0;34m\u001b[0m\u001b[0m\n\u001b[0;32m----> 2\u001b[0;31m \u001b[0mtrimesh_vtk\u001b[0m\u001b[0;34m.\u001b[0m\u001b[0mrender_actors\u001b[0m\u001b[0;34m(\u001b[0m\u001b[0;34m[\u001b[0m\u001b[0mma\u001b[0m\u001b[0;34m]\u001b[0m\u001b[0;34m)\u001b[0m\u001b[0;34m\u001b[0m\u001b[0;34m\u001b[0m\u001b[0m\n\u001b[0m",
      "\u001b[0;32m/opt/anaconda3/envs/caveclient/lib/python3.9/site-packages/meshparty/trimesh_vtk.py\u001b[0m in \u001b[0;36mrender_actors\u001b[0;34m(actors, camera, do_save, filename, scale, back_color, VIDEO_WIDTH, VIDEO_HEIGHT, video_width, video_height, return_keyframes)\u001b[0m\n\u001b[1;32m    312\u001b[0m         \u001b[0miren\u001b[0m\u001b[0;34m.\u001b[0m\u001b[0mInitialize\u001b[0m\u001b[0;34m(\u001b[0m\u001b[0;34m)\u001b[0m\u001b[0;34m\u001b[0m\u001b[0;34m\u001b[0m\u001b[0m\n\u001b[1;32m    313\u001b[0m         \u001b[0miren\u001b[0m\u001b[0;34m.\u001b[0m\u001b[0mRender\u001b[0m\u001b[0;34m(\u001b[0m\u001b[0;34m)\u001b[0m\u001b[0;34m\u001b[0m\u001b[0;34m\u001b[0m\u001b[0m\n\u001b[0;32m--> 314\u001b[0;31m         \u001b[0miren\u001b[0m\u001b[0;34m.\u001b[0m\u001b[0mStart\u001b[0m\u001b[0;34m(\u001b[0m\u001b[0;34m)\u001b[0m\u001b[0;34m\u001b[0m\u001b[0;34m\u001b[0m\u001b[0m\n\u001b[0m\u001b[1;32m    315\u001b[0m \u001b[0;34m\u001b[0m\u001b[0m\n\u001b[1;32m    316\u001b[0m     \u001b[0;32mif\u001b[0m \u001b[0mdo_save\u001b[0m \u001b[0;32mis\u001b[0m \u001b[0;32mTrue\u001b[0m\u001b[0;34m:\u001b[0m\u001b[0;34m\u001b[0m\u001b[0;34m\u001b[0m\u001b[0m\n",
      "\u001b[0;31mKeyboardInterrupt\u001b[0m: "
     ]
    }
   ],
   "source": [
    "ma = trimesh_vtk.mesh_actor(mesh)\n",
    "trimesh_vtk.render_actors([ma])"
   ]
  },
  {
   "cell_type": "code",
   "execution_count": null,
   "metadata": {},
   "outputs": [
    {
     "data": {
      "text/plain": [
       "{'analysis_database': None,\n",
       " 'local_server': 'https://minnie.microns-daf.com',\n",
       " 'viewer_resolution_x': 4.0,\n",
       " 'soma_table': 'nucleus_neuron_svm',\n",
       " 'segmentation_source': 'graphene://https://minnie.microns-daf.com/segmentation/table/minnie3_v1',\n",
       " 'viewer_resolution_z': 40.0,\n",
       " 'aligned_volume': {'name': 'minnie65_phase3',\n",
       "  'image_source': 'precomputed://https://bossdb-open-data.s3.amazonaws.com/iarpa_microns/minnie/minnie65/em',\n",
       "  'id': 1,\n",
       "  'description': \"This is the second alignment of the IARPA 'minnie65' dataset, completed in the spring of 2020 that used the seamless approach.\"},\n",
       " 'viewer_resolution_y': 4.0,\n",
       " 'synapse_table': 'synapses_pni_2',\n",
       " 'viewer_site': 'https://neuroglancer.neuvue.io',\n",
       " 'description': 'This is the first version of Minnie that has proofreading enabled. Was first enabled on June 24, 2020. '}"
      ]
     },
     "execution_count": 23,
     "metadata": {},
     "output_type": "execute_result"
    }
   ],
   "source": [
    "client.info.get_datastack_info()\n"
   ]
  },
  {
   "cell_type": "code",
   "execution_count": null,
   "metadata": {},
   "outputs": [],
   "source": [
    "inputs= client.materialize.query_table('synapses_pni_2',\n",
    "filter_equal_dict={'post_pt_root_id':seg_id},\n",
    "desired_resolution=[1,1,1])"
   ]
  },
  {
   "cell_type": "code",
   "execution_count": null,
   "metadata": {},
   "outputs": [
    {
     "data": {
      "text/html": [
       "<div>\n",
       "<style scoped>\n",
       "    .dataframe tbody tr th:only-of-type {\n",
       "        vertical-align: middle;\n",
       "    }\n",
       "\n",
       "    .dataframe tbody tr th {\n",
       "        vertical-align: top;\n",
       "    }\n",
       "\n",
       "    .dataframe thead th {\n",
       "        text-align: right;\n",
       "    }\n",
       "</style>\n",
       "<table border=\"1\" class=\"dataframe\">\n",
       "  <thead>\n",
       "    <tr style=\"text-align: right;\">\n",
       "      <th></th>\n",
       "      <th>id</th>\n",
       "      <th>valid</th>\n",
       "      <th>pre_pt_supervoxel_id</th>\n",
       "      <th>pre_pt_root_id</th>\n",
       "      <th>post_pt_supervoxel_id</th>\n",
       "      <th>post_pt_root_id</th>\n",
       "      <th>size</th>\n",
       "      <th>pre_pt_position</th>\n",
       "      <th>post_pt_position</th>\n",
       "      <th>ctr_pt_position</th>\n",
       "    </tr>\n",
       "  </thead>\n",
       "  <tbody>\n",
       "    <tr>\n",
       "      <th>0</th>\n",
       "      <td>197246597</td>\n",
       "      <td>t</td>\n",
       "      <td>92272185108268508</td>\n",
       "      <td>864691136825637486</td>\n",
       "      <td>92272185108277741</td>\n",
       "      <td>864691135730638521</td>\n",
       "      <td>18248</td>\n",
       "      <td>[799232.0, 802168.0, 937200.0]</td>\n",
       "      <td>[799288.0, 801920.0, 937560.0]</td>\n",
       "      <td>[799440.0, 802128.0, 937480.0]</td>\n",
       "    </tr>\n",
       "    <tr>\n",
       "      <th>1</th>\n",
       "      <td>176216759</td>\n",
       "      <td>t</td>\n",
       "      <td>90159610887449783</td>\n",
       "      <td>864691136729788526</td>\n",
       "      <td>90159610887447862</td>\n",
       "      <td>864691135730638521</td>\n",
       "      <td>14288</td>\n",
       "      <td>[738776.0, 758144.0, 919920.0]</td>\n",
       "      <td>[738896.0, 758512.0, 920200.0]</td>\n",
       "      <td>[738832.0, 758528.0, 919880.0]</td>\n",
       "    </tr>\n",
       "    <tr>\n",
       "      <th>2</th>\n",
       "      <td>178565686</td>\n",
       "      <td>t</td>\n",
       "      <td>90779254408682739</td>\n",
       "      <td>864691135519104708</td>\n",
       "      <td>90779254408682701</td>\n",
       "      <td>864691135730638521</td>\n",
       "      <td>59336</td>\n",
       "      <td>[756672.0, 350240.0, 903720.0]</td>\n",
       "      <td>[756232.0, 350056.0, 903680.0]</td>\n",
       "      <td>[756480.0, 350048.0, 903720.0]</td>\n",
       "    </tr>\n",
       "    <tr>\n",
       "      <th>3</th>\n",
       "      <td>189946096</td>\n",
       "      <td>t</td>\n",
       "      <td>91499022275361306</td>\n",
       "      <td>864691134760418253</td>\n",
       "      <td>91499022275356552</td>\n",
       "      <td>864691135730638521</td>\n",
       "      <td>19240</td>\n",
       "      <td>[777400.0, 828904.0, 931360.0]</td>\n",
       "      <td>[777360.0, 828952.0, 931080.0]</td>\n",
       "      <td>[777520.0, 828784.0, 931160.0]</td>\n",
       "    </tr>\n",
       "    <tr>\n",
       "      <th>4</th>\n",
       "      <td>176248876</td>\n",
       "      <td>t</td>\n",
       "      <td>90232797263952496</td>\n",
       "      <td>864691135501569858</td>\n",
       "      <td>90232797263967866</td>\n",
       "      <td>864691135730638521</td>\n",
       "      <td>8540</td>\n",
       "      <td>[740616.0, 841472.0, 944840.0]</td>\n",
       "      <td>[740976.0, 841432.0, 945320.0]</td>\n",
       "      <td>[740744.0, 841376.0, 945040.0]</td>\n",
       "    </tr>\n",
       "    <tr>\n",
       "      <th>...</th>\n",
       "      <td>...</td>\n",
       "      <td>...</td>\n",
       "      <td>...</td>\n",
       "      <td>...</td>\n",
       "      <td>...</td>\n",
       "      <td>...</td>\n",
       "      <td>...</td>\n",
       "      <td>...</td>\n",
       "      <td>...</td>\n",
       "      <td>...</td>\n",
       "    </tr>\n",
       "    <tr>\n",
       "      <th>11120</th>\n",
       "      <td>169533309</td>\n",
       "      <td>t</td>\n",
       "      <td>89811340713309023</td>\n",
       "      <td>864691136849609326</td>\n",
       "      <td>89811340713320133</td>\n",
       "      <td>864691135730638521</td>\n",
       "      <td>4272</td>\n",
       "      <td>[728456.0, 863992.0, 951560.0]</td>\n",
       "      <td>[728616.0, 863976.0, 951920.0]</td>\n",
       "      <td>[728736.0, 864056.0, 951840.0]</td>\n",
       "    </tr>\n",
       "    <tr>\n",
       "      <th>11121</th>\n",
       "      <td>223942425</td>\n",
       "      <td>t</td>\n",
       "      <td>94103765120473322</td>\n",
       "      <td>864691136886102382</td>\n",
       "      <td>94103765120466653</td>\n",
       "      <td>864691135730638521</td>\n",
       "      <td>1928</td>\n",
       "      <td>[853160.0, 861728.0, 877880.0]</td>\n",
       "      <td>[853048.0, 861888.0, 877720.0]</td>\n",
       "      <td>[853292.0, 862076.0, 877640.0]</td>\n",
       "    </tr>\n",
       "    <tr>\n",
       "      <th>11122</th>\n",
       "      <td>169038531</td>\n",
       "      <td>t</td>\n",
       "      <td>89875936685973098</td>\n",
       "      <td>864691135506214596</td>\n",
       "      <td>89946305430152951</td>\n",
       "      <td>864691135730638521</td>\n",
       "      <td>14112</td>\n",
       "      <td>[731016.0, 692704.0, 852120.0]</td>\n",
       "      <td>[731416.0, 692712.0, 852080.0]</td>\n",
       "      <td>[731176.0, 692808.0, 852080.0]</td>\n",
       "    </tr>\n",
       "    <tr>\n",
       "      <th>11123</th>\n",
       "      <td>183137103</td>\n",
       "      <td>t</td>\n",
       "      <td>90654391119816919</td>\n",
       "      <td>864691135593774123</td>\n",
       "      <td>90654391119808627</td>\n",
       "      <td>864691135730638521</td>\n",
       "      <td>3096</td>\n",
       "      <td>[752192.0, 823936.0, 914480.0]</td>\n",
       "      <td>[752144.0, 823992.0, 914200.0]</td>\n",
       "      <td>[752476.0, 823588.0, 914400.0]</td>\n",
       "    </tr>\n",
       "    <tr>\n",
       "      <th>11124</th>\n",
       "      <td>137619397</td>\n",
       "      <td>t</td>\n",
       "      <td>87261847857798058</td>\n",
       "      <td>864691135135073049</td>\n",
       "      <td>87261916577286132</td>\n",
       "      <td>864691135730638521</td>\n",
       "      <td>6600</td>\n",
       "      <td>[655432.0, 381696.0, 864080.0]</td>\n",
       "      <td>[655216.0, 381768.0, 864160.0]</td>\n",
       "      <td>[655192.0, 381872.0, 864440.0]</td>\n",
       "    </tr>\n",
       "  </tbody>\n",
       "</table>\n",
       "<p>11125 rows × 10 columns</p>\n",
       "</div>"
      ],
      "text/plain": [
       "              id valid  pre_pt_supervoxel_id      pre_pt_root_id  \\\n",
       "0      197246597     t     92272185108268508  864691136825637486   \n",
       "1      176216759     t     90159610887449783  864691136729788526   \n",
       "2      178565686     t     90779254408682739  864691135519104708   \n",
       "3      189946096     t     91499022275361306  864691134760418253   \n",
       "4      176248876     t     90232797263952496  864691135501569858   \n",
       "...          ...   ...                   ...                 ...   \n",
       "11120  169533309     t     89811340713309023  864691136849609326   \n",
       "11121  223942425     t     94103765120473322  864691136886102382   \n",
       "11122  169038531     t     89875936685973098  864691135506214596   \n",
       "11123  183137103     t     90654391119816919  864691135593774123   \n",
       "11124  137619397     t     87261847857798058  864691135135073049   \n",
       "\n",
       "       post_pt_supervoxel_id     post_pt_root_id   size  \\\n",
       "0          92272185108277741  864691135730638521  18248   \n",
       "1          90159610887447862  864691135730638521  14288   \n",
       "2          90779254408682701  864691135730638521  59336   \n",
       "3          91499022275356552  864691135730638521  19240   \n",
       "4          90232797263967866  864691135730638521   8540   \n",
       "...                      ...                 ...    ...   \n",
       "11120      89811340713320133  864691135730638521   4272   \n",
       "11121      94103765120466653  864691135730638521   1928   \n",
       "11122      89946305430152951  864691135730638521  14112   \n",
       "11123      90654391119808627  864691135730638521   3096   \n",
       "11124      87261916577286132  864691135730638521   6600   \n",
       "\n",
       "                      pre_pt_position                post_pt_position  \\\n",
       "0      [799232.0, 802168.0, 937200.0]  [799288.0, 801920.0, 937560.0]   \n",
       "1      [738776.0, 758144.0, 919920.0]  [738896.0, 758512.0, 920200.0]   \n",
       "2      [756672.0, 350240.0, 903720.0]  [756232.0, 350056.0, 903680.0]   \n",
       "3      [777400.0, 828904.0, 931360.0]  [777360.0, 828952.0, 931080.0]   \n",
       "4      [740616.0, 841472.0, 944840.0]  [740976.0, 841432.0, 945320.0]   \n",
       "...                               ...                             ...   \n",
       "11120  [728456.0, 863992.0, 951560.0]  [728616.0, 863976.0, 951920.0]   \n",
       "11121  [853160.0, 861728.0, 877880.0]  [853048.0, 861888.0, 877720.0]   \n",
       "11122  [731016.0, 692704.0, 852120.0]  [731416.0, 692712.0, 852080.0]   \n",
       "11123  [752192.0, 823936.0, 914480.0]  [752144.0, 823992.0, 914200.0]   \n",
       "11124  [655432.0, 381696.0, 864080.0]  [655216.0, 381768.0, 864160.0]   \n",
       "\n",
       "                      ctr_pt_position  \n",
       "0      [799440.0, 802128.0, 937480.0]  \n",
       "1      [738832.0, 758528.0, 919880.0]  \n",
       "2      [756480.0, 350048.0, 903720.0]  \n",
       "3      [777520.0, 828784.0, 931160.0]  \n",
       "4      [740744.0, 841376.0, 945040.0]  \n",
       "...                               ...  \n",
       "11120  [728736.0, 864056.0, 951840.0]  \n",
       "11121  [853292.0, 862076.0, 877640.0]  \n",
       "11122  [731176.0, 692808.0, 852080.0]  \n",
       "11123  [752476.0, 823588.0, 914400.0]  \n",
       "11124  [655192.0, 381872.0, 864440.0]  \n",
       "\n",
       "[11125 rows x 10 columns]"
      ]
     },
     "execution_count": 9,
     "metadata": {},
     "output_type": "execute_result"
    }
   ],
   "source": [
    "inputs"
   ]
  },
  {
   "cell_type": "code",
   "execution_count": null,
   "metadata": {},
   "outputs": [],
   "source": [
    "input_pos = np.vstack(inputs.ctr_pt_position.values)"
   ]
  },
  {
   "cell_type": "code",
   "execution_count": null,
   "metadata": {},
   "outputs": [
    {
     "data": {
      "text/plain": [
       "array([[799440., 802128., 937480.],\n",
       "       [738832., 758528., 919880.],\n",
       "       [756480., 350048., 903720.],\n",
       "       ...,\n",
       "       [731176., 692808., 852080.],\n",
       "       [752476., 823588., 914400.],\n",
       "       [655192., 381872., 864440.]])"
      ]
     },
     "execution_count": 11,
     "metadata": {},
     "output_type": "execute_result"
    }
   ],
   "source": [
    "input_pos"
   ]
  },
  {
   "cell_type": "code",
   "execution_count": null,
   "metadata": {},
   "outputs": [],
   "source": [
    "pa = trimesh_vtk.point_cloud_actor(input_pos, size=500, color=(1,0,0))\n"
   ]
  },
  {
   "cell_type": "code",
   "execution_count": null,
   "metadata": {},
   "outputs": [],
   "source": []
  },
  {
   "cell_type": "code",
   "execution_count": null,
   "metadata": {},
   "outputs": [
    {
     "name": "stdout",
     "output_type": "stream",
     "text": [
      "setting up renderer\n",
      "done setting up\n",
      "actors added\n",
      "camera set\n",
      "render done\n",
      "finalizing..\n"
     ]
    },
    {
     "data": {
      "text/plain": [
       "<vtkmodules.vtkRenderingOpenGL2.vtkOpenGLRenderer(0x7fc1a204fa00) at 0x7fc241430f40>"
      ]
     },
     "execution_count": 13,
     "metadata": {},
     "output_type": "execute_result"
    }
   ],
   "source": [
    "trimesh_vtk.render_actors([ma,pa])"
   ]
  },
  {
   "cell_type": "code",
   "execution_count": null,
   "metadata": {},
   "outputs": [],
   "source": [
    "import pcg_skel"
   ]
  },
  {
   "cell_type": "code",
   "execution_count": 33,
   "metadata": {},
   "outputs": [],
   "source": []
  },
  {
   "cell_type": "code",
   "execution_count": null,
   "metadata": {},
   "outputs": [],
   "source": [
    "soma_pos=np.array([188631, 207089, 22710])*[4,4,40]"
   ]
  },
  {
   "cell_type": "code",
   "execution_count": null,
   "metadata": {},
   "outputs": [],
   "source": [
    "client.info.viewer_resolution()"
   ]
  },
  {
   "cell_type": "code",
   "execution_count": 29,
   "metadata": {},
   "outputs": [
    {
     "ename": "KeyboardInterrupt",
     "evalue": "",
     "output_type": "error",
     "traceback": [
      "\u001b[0;31m---------------------------------------------------------------------------\u001b[0m",
      "\u001b[0;31mKeyboardInterrupt\u001b[0m                         Traceback (most recent call last)",
      "\u001b[0;32m/var/folders/kx/xq42kw197c5_qw6kxgnr4nkr0000gq/T/ipykernel_30460/73151098.py\u001b[0m in \u001b[0;36m<module>\u001b[0;34m\u001b[0m\n\u001b[0;32m----> 1\u001b[0;31m sk=pcg_skel.pcg_skeleton(seg_id, client=client,\n\u001b[0m\u001b[1;32m      2\u001b[0m  cache='service')\n",
      "\u001b[0;32m/opt/anaconda3/envs/caveclient/lib/python3.9/site-packages/pcg_skel/pcg_skel.py\u001b[0m in \u001b[0;36mpcg_skeleton\u001b[0;34m(root_id, client, datastack_name, cv, refine, root_point, root_point_resolution, root_point_search_radius, collapse_soma, collapse_radius, invalidation_d, return_mesh, return_l2dict, return_l2dict_mesh, return_missing_ids, nan_rounds, segmentation_fallback, fallback_mip, cache, save_to_cache, n_parallel, l2cache)\u001b[0m\n\u001b[1;32m    541\u001b[0m         \u001b[0;34m(\u001b[0m\u001b[0ml2dict\u001b[0m\u001b[0;34m,\u001b[0m \u001b[0ml2dict_r\u001b[0m\u001b[0;34m)\u001b[0m\u001b[0;34m,\u001b[0m\u001b[0;34m\u001b[0m\u001b[0;34m\u001b[0m\u001b[0m\n\u001b[1;32m    542\u001b[0m         \u001b[0;34m(\u001b[0m\u001b[0ml2dict_mesh\u001b[0m\u001b[0;34m,\u001b[0m \u001b[0ml2dict_mesh_r\u001b[0m\u001b[0;34m)\u001b[0m\u001b[0;34m,\u001b[0m\u001b[0;34m\u001b[0m\u001b[0;34m\u001b[0m\u001b[0m\n\u001b[0;32m--> 543\u001b[0;31m     \u001b[0;34m)\u001b[0m \u001b[0;34m=\u001b[0m \u001b[0mchunk_index_skeleton\u001b[0m\u001b[0;34m(\u001b[0m\u001b[0;34m\u001b[0m\u001b[0;34m\u001b[0m\u001b[0m\n\u001b[0m\u001b[1;32m    544\u001b[0m         \u001b[0mroot_id\u001b[0m\u001b[0;34m,\u001b[0m\u001b[0;34m\u001b[0m\u001b[0;34m\u001b[0m\u001b[0m\n\u001b[1;32m    545\u001b[0m         \u001b[0mclient\u001b[0m\u001b[0;34m=\u001b[0m\u001b[0mclient\u001b[0m\u001b[0;34m,\u001b[0m\u001b[0;34m\u001b[0m\u001b[0;34m\u001b[0m\u001b[0m\n",
      "\u001b[0;32m/opt/anaconda3/envs/caveclient/lib/python3.9/site-packages/pcg_skel/pcg_skel.py\u001b[0m in \u001b[0;36mchunk_index_skeleton\u001b[0;34m(root_id, client, datastack_name, cv, root_point, invalidation_d, return_mesh, return_l2dict, return_mesh_l2dict, root_point_resolution, root_point_search_radius, n_parallel)\u001b[0m\n\u001b[1;32m    268\u001b[0m         \u001b[0mroot_point_resolution\u001b[0m \u001b[0;34m=\u001b[0m \u001b[0mcv\u001b[0m\u001b[0;34m.\u001b[0m\u001b[0mmip_resolution\u001b[0m\u001b[0;34m(\u001b[0m\u001b[0;36m0\u001b[0m\u001b[0;34m)\u001b[0m\u001b[0;34m\u001b[0m\u001b[0;34m\u001b[0m\u001b[0m\n\u001b[1;32m    269\u001b[0m \u001b[0;34m\u001b[0m\u001b[0m\n\u001b[0;32m--> 270\u001b[0;31m     mesh_chunk, l2dict_mesh, l2dict_r_mesh = chunk_index_mesh(\n\u001b[0m\u001b[1;32m    271\u001b[0m         \u001b[0mroot_id\u001b[0m\u001b[0;34m,\u001b[0m \u001b[0mclient\u001b[0m\u001b[0;34m=\u001b[0m\u001b[0mclient\u001b[0m\u001b[0;34m,\u001b[0m \u001b[0mcv\u001b[0m\u001b[0;34m=\u001b[0m\u001b[0mcv\u001b[0m\u001b[0;34m,\u001b[0m \u001b[0mreturn_l2dict\u001b[0m\u001b[0;34m=\u001b[0m\u001b[0;32mTrue\u001b[0m\u001b[0;34m\u001b[0m\u001b[0;34m\u001b[0m\u001b[0m\n\u001b[1;32m    272\u001b[0m     )\n",
      "\u001b[0;32m/opt/anaconda3/envs/caveclient/lib/python3.9/site-packages/pcg_skel/pcg_skel.py\u001b[0m in \u001b[0;36mchunk_index_mesh\u001b[0;34m(root_id, client, datastack_name, cv, return_l2dict)\u001b[0m\n\u001b[1;32m    199\u001b[0m         \u001b[0mcv\u001b[0m \u001b[0;34m=\u001b[0m \u001b[0mclient\u001b[0m\u001b[0;34m.\u001b[0m\u001b[0minfo\u001b[0m\u001b[0;34m.\u001b[0m\u001b[0msegmentation_cloudvolume\u001b[0m\u001b[0;34m(\u001b[0m\u001b[0mprogress\u001b[0m\u001b[0;34m=\u001b[0m\u001b[0;32mFalse\u001b[0m\u001b[0;34m)\u001b[0m\u001b[0;34m\u001b[0m\u001b[0;34m\u001b[0m\u001b[0m\n\u001b[1;32m    200\u001b[0m \u001b[0;34m\u001b[0m\u001b[0m\n\u001b[0;32m--> 201\u001b[0;31m     \u001b[0mlvl2_eg\u001b[0m \u001b[0;34m=\u001b[0m \u001b[0mclient\u001b[0m\u001b[0;34m.\u001b[0m\u001b[0mchunkedgraph\u001b[0m\u001b[0;34m.\u001b[0m\u001b[0mlevel2_chunk_graph\u001b[0m\u001b[0;34m(\u001b[0m\u001b[0mroot_id\u001b[0m\u001b[0;34m)\u001b[0m\u001b[0;34m\u001b[0m\u001b[0;34m\u001b[0m\u001b[0m\n\u001b[0m\u001b[1;32m    202\u001b[0m     \u001b[0meg\u001b[0m\u001b[0;34m,\u001b[0m \u001b[0ml2dict_mesh\u001b[0m\u001b[0;34m,\u001b[0m \u001b[0ml2dict_r_mesh\u001b[0m\u001b[0;34m,\u001b[0m \u001b[0mx_ch\u001b[0m \u001b[0;34m=\u001b[0m \u001b[0mbuild_spatial_graph\u001b[0m\u001b[0;34m(\u001b[0m\u001b[0mlvl2_eg\u001b[0m\u001b[0;34m,\u001b[0m \u001b[0mcv\u001b[0m\u001b[0;34m)\u001b[0m\u001b[0;34m\u001b[0m\u001b[0;34m\u001b[0m\u001b[0m\n\u001b[1;32m    203\u001b[0m     mesh_chunk = trimesh_io.Mesh(\n",
      "\u001b[0;32m~/ConnectomeStack/CAVEclient/caveclient/chunkedgraph.py\u001b[0m in \u001b[0;36mlevel2_chunk_graph\u001b[0;34m(self, root_id)\u001b[0m\n\u001b[1;32m    596\u001b[0m         \u001b[0mendpoint_mapping\u001b[0m\u001b[0;34m[\u001b[0m\u001b[0;34m\"root_id\"\u001b[0m\u001b[0;34m]\u001b[0m \u001b[0;34m=\u001b[0m \u001b[0mroot_id\u001b[0m\u001b[0;34m\u001b[0m\u001b[0;34m\u001b[0m\u001b[0m\n\u001b[1;32m    597\u001b[0m         \u001b[0murl\u001b[0m \u001b[0;34m=\u001b[0m \u001b[0mself\u001b[0m\u001b[0;34m.\u001b[0m\u001b[0m_endpoints\u001b[0m\u001b[0;34m[\u001b[0m\u001b[0;34m\"lvl2_graph\"\u001b[0m\u001b[0;34m]\u001b[0m\u001b[0;34m.\u001b[0m\u001b[0mformat_map\u001b[0m\u001b[0;34m(\u001b[0m\u001b[0mendpoint_mapping\u001b[0m\u001b[0;34m)\u001b[0m\u001b[0;34m\u001b[0m\u001b[0;34m\u001b[0m\u001b[0m\n\u001b[0;32m--> 598\u001b[0;31m         \u001b[0mr\u001b[0m \u001b[0;34m=\u001b[0m \u001b[0mhandle_response\u001b[0m\u001b[0;34m(\u001b[0m\u001b[0mself\u001b[0m\u001b[0;34m.\u001b[0m\u001b[0msession\u001b[0m\u001b[0;34m.\u001b[0m\u001b[0mget\u001b[0m\u001b[0;34m(\u001b[0m\u001b[0murl\u001b[0m\u001b[0;34m)\u001b[0m\u001b[0;34m)\u001b[0m\u001b[0;34m\u001b[0m\u001b[0;34m\u001b[0m\u001b[0m\n\u001b[0m\u001b[1;32m    599\u001b[0m         \u001b[0;32mreturn\u001b[0m \u001b[0mr\u001b[0m\u001b[0;34m[\u001b[0m\u001b[0;34m\"edge_graph\"\u001b[0m\u001b[0;34m]\u001b[0m\u001b[0;34m\u001b[0m\u001b[0;34m\u001b[0m\u001b[0m\n\u001b[1;32m    600\u001b[0m \u001b[0;34m\u001b[0m\u001b[0m\n",
      "\u001b[0;32m/opt/anaconda3/envs/caveclient/lib/python3.9/site-packages/requests/sessions.py\u001b[0m in \u001b[0;36mget\u001b[0;34m(self, url, **kwargs)\u001b[0m\n\u001b[1;32m    540\u001b[0m \u001b[0;34m\u001b[0m\u001b[0m\n\u001b[1;32m    541\u001b[0m         \u001b[0mkwargs\u001b[0m\u001b[0;34m.\u001b[0m\u001b[0msetdefault\u001b[0m\u001b[0;34m(\u001b[0m\u001b[0;34m'allow_redirects'\u001b[0m\u001b[0;34m,\u001b[0m \u001b[0;32mTrue\u001b[0m\u001b[0;34m)\u001b[0m\u001b[0;34m\u001b[0m\u001b[0;34m\u001b[0m\u001b[0m\n\u001b[0;32m--> 542\u001b[0;31m         \u001b[0;32mreturn\u001b[0m \u001b[0mself\u001b[0m\u001b[0;34m.\u001b[0m\u001b[0mrequest\u001b[0m\u001b[0;34m(\u001b[0m\u001b[0;34m'GET'\u001b[0m\u001b[0;34m,\u001b[0m \u001b[0murl\u001b[0m\u001b[0;34m,\u001b[0m \u001b[0;34m**\u001b[0m\u001b[0mkwargs\u001b[0m\u001b[0;34m)\u001b[0m\u001b[0;34m\u001b[0m\u001b[0;34m\u001b[0m\u001b[0m\n\u001b[0m\u001b[1;32m    543\u001b[0m \u001b[0;34m\u001b[0m\u001b[0m\n\u001b[1;32m    544\u001b[0m     \u001b[0;32mdef\u001b[0m \u001b[0moptions\u001b[0m\u001b[0;34m(\u001b[0m\u001b[0mself\u001b[0m\u001b[0;34m,\u001b[0m \u001b[0murl\u001b[0m\u001b[0;34m,\u001b[0m \u001b[0;34m**\u001b[0m\u001b[0mkwargs\u001b[0m\u001b[0;34m)\u001b[0m\u001b[0;34m:\u001b[0m\u001b[0;34m\u001b[0m\u001b[0;34m\u001b[0m\u001b[0m\n",
      "\u001b[0;32m/opt/anaconda3/envs/caveclient/lib/python3.9/site-packages/requests/sessions.py\u001b[0m in \u001b[0;36mrequest\u001b[0;34m(self, method, url, params, data, headers, cookies, files, auth, timeout, allow_redirects, proxies, hooks, stream, verify, cert, json)\u001b[0m\n\u001b[1;32m    527\u001b[0m         }\n\u001b[1;32m    528\u001b[0m         \u001b[0msend_kwargs\u001b[0m\u001b[0;34m.\u001b[0m\u001b[0mupdate\u001b[0m\u001b[0;34m(\u001b[0m\u001b[0msettings\u001b[0m\u001b[0;34m)\u001b[0m\u001b[0;34m\u001b[0m\u001b[0;34m\u001b[0m\u001b[0m\n\u001b[0;32m--> 529\u001b[0;31m         \u001b[0mresp\u001b[0m \u001b[0;34m=\u001b[0m \u001b[0mself\u001b[0m\u001b[0;34m.\u001b[0m\u001b[0msend\u001b[0m\u001b[0;34m(\u001b[0m\u001b[0mprep\u001b[0m\u001b[0;34m,\u001b[0m \u001b[0;34m**\u001b[0m\u001b[0msend_kwargs\u001b[0m\u001b[0;34m)\u001b[0m\u001b[0;34m\u001b[0m\u001b[0;34m\u001b[0m\u001b[0m\n\u001b[0m\u001b[1;32m    530\u001b[0m \u001b[0;34m\u001b[0m\u001b[0m\n\u001b[1;32m    531\u001b[0m         \u001b[0;32mreturn\u001b[0m \u001b[0mresp\u001b[0m\u001b[0;34m\u001b[0m\u001b[0;34m\u001b[0m\u001b[0m\n",
      "\u001b[0;32m/opt/anaconda3/envs/caveclient/lib/python3.9/site-packages/requests/sessions.py\u001b[0m in \u001b[0;36msend\u001b[0;34m(self, request, **kwargs)\u001b[0m\n\u001b[1;32m    643\u001b[0m \u001b[0;34m\u001b[0m\u001b[0m\n\u001b[1;32m    644\u001b[0m         \u001b[0;31m# Send the request\u001b[0m\u001b[0;34m\u001b[0m\u001b[0;34m\u001b[0m\u001b[0;34m\u001b[0m\u001b[0m\n\u001b[0;32m--> 645\u001b[0;31m         \u001b[0mr\u001b[0m \u001b[0;34m=\u001b[0m \u001b[0madapter\u001b[0m\u001b[0;34m.\u001b[0m\u001b[0msend\u001b[0m\u001b[0;34m(\u001b[0m\u001b[0mrequest\u001b[0m\u001b[0;34m,\u001b[0m \u001b[0;34m**\u001b[0m\u001b[0mkwargs\u001b[0m\u001b[0;34m)\u001b[0m\u001b[0;34m\u001b[0m\u001b[0;34m\u001b[0m\u001b[0m\n\u001b[0m\u001b[1;32m    646\u001b[0m \u001b[0;34m\u001b[0m\u001b[0m\n\u001b[1;32m    647\u001b[0m         \u001b[0;31m# Total elapsed time of the request (approximately)\u001b[0m\u001b[0;34m\u001b[0m\u001b[0;34m\u001b[0m\u001b[0;34m\u001b[0m\u001b[0m\n",
      "\u001b[0;32m/opt/anaconda3/envs/caveclient/lib/python3.9/site-packages/requests/adapters.py\u001b[0m in \u001b[0;36msend\u001b[0;34m(self, request, stream, timeout, verify, cert, proxies)\u001b[0m\n\u001b[1;32m    438\u001b[0m         \u001b[0;32mtry\u001b[0m\u001b[0;34m:\u001b[0m\u001b[0;34m\u001b[0m\u001b[0;34m\u001b[0m\u001b[0m\n\u001b[1;32m    439\u001b[0m             \u001b[0;32mif\u001b[0m \u001b[0;32mnot\u001b[0m \u001b[0mchunked\u001b[0m\u001b[0;34m:\u001b[0m\u001b[0;34m\u001b[0m\u001b[0;34m\u001b[0m\u001b[0m\n\u001b[0;32m--> 440\u001b[0;31m                 resp = conn.urlopen(\n\u001b[0m\u001b[1;32m    441\u001b[0m                     \u001b[0mmethod\u001b[0m\u001b[0;34m=\u001b[0m\u001b[0mrequest\u001b[0m\u001b[0;34m.\u001b[0m\u001b[0mmethod\u001b[0m\u001b[0;34m,\u001b[0m\u001b[0;34m\u001b[0m\u001b[0;34m\u001b[0m\u001b[0m\n\u001b[1;32m    442\u001b[0m                     \u001b[0murl\u001b[0m\u001b[0;34m=\u001b[0m\u001b[0murl\u001b[0m\u001b[0;34m,\u001b[0m\u001b[0;34m\u001b[0m\u001b[0;34m\u001b[0m\u001b[0m\n",
      "\u001b[0;32m/opt/anaconda3/envs/caveclient/lib/python3.9/site-packages/urllib3/connectionpool.py\u001b[0m in \u001b[0;36murlopen\u001b[0;34m(self, method, url, body, headers, retries, redirect, assert_same_host, timeout, pool_timeout, release_conn, chunked, body_pos, **response_kw)\u001b[0m\n\u001b[1;32m    701\u001b[0m \u001b[0;34m\u001b[0m\u001b[0m\n\u001b[1;32m    702\u001b[0m             \u001b[0;31m# Make the request on the httplib connection object.\u001b[0m\u001b[0;34m\u001b[0m\u001b[0;34m\u001b[0m\u001b[0;34m\u001b[0m\u001b[0m\n\u001b[0;32m--> 703\u001b[0;31m             httplib_response = self._make_request(\n\u001b[0m\u001b[1;32m    704\u001b[0m                 \u001b[0mconn\u001b[0m\u001b[0;34m,\u001b[0m\u001b[0;34m\u001b[0m\u001b[0;34m\u001b[0m\u001b[0m\n\u001b[1;32m    705\u001b[0m                 \u001b[0mmethod\u001b[0m\u001b[0;34m,\u001b[0m\u001b[0;34m\u001b[0m\u001b[0;34m\u001b[0m\u001b[0m\n",
      "\u001b[0;32m/opt/anaconda3/envs/caveclient/lib/python3.9/site-packages/urllib3/connectionpool.py\u001b[0m in \u001b[0;36m_make_request\u001b[0;34m(self, conn, method, url, timeout, chunked, **httplib_request_kw)\u001b[0m\n\u001b[1;32m    447\u001b[0m                     \u001b[0;31m# Python 3 (including for exceptions like SystemExit).\u001b[0m\u001b[0;34m\u001b[0m\u001b[0;34m\u001b[0m\u001b[0;34m\u001b[0m\u001b[0m\n\u001b[1;32m    448\u001b[0m                     \u001b[0;31m# Otherwise it looks like a bug in the code.\u001b[0m\u001b[0;34m\u001b[0m\u001b[0;34m\u001b[0m\u001b[0;34m\u001b[0m\u001b[0m\n\u001b[0;32m--> 449\u001b[0;31m                     \u001b[0msix\u001b[0m\u001b[0;34m.\u001b[0m\u001b[0mraise_from\u001b[0m\u001b[0;34m(\u001b[0m\u001b[0me\u001b[0m\u001b[0;34m,\u001b[0m \u001b[0;32mNone\u001b[0m\u001b[0;34m)\u001b[0m\u001b[0;34m\u001b[0m\u001b[0;34m\u001b[0m\u001b[0m\n\u001b[0m\u001b[1;32m    450\u001b[0m         \u001b[0;32mexcept\u001b[0m \u001b[0;34m(\u001b[0m\u001b[0mSocketTimeout\u001b[0m\u001b[0;34m,\u001b[0m \u001b[0mBaseSSLError\u001b[0m\u001b[0;34m,\u001b[0m \u001b[0mSocketError\u001b[0m\u001b[0;34m)\u001b[0m \u001b[0;32mas\u001b[0m \u001b[0me\u001b[0m\u001b[0;34m:\u001b[0m\u001b[0;34m\u001b[0m\u001b[0;34m\u001b[0m\u001b[0m\n\u001b[1;32m    451\u001b[0m             \u001b[0mself\u001b[0m\u001b[0;34m.\u001b[0m\u001b[0m_raise_timeout\u001b[0m\u001b[0;34m(\u001b[0m\u001b[0merr\u001b[0m\u001b[0;34m=\u001b[0m\u001b[0me\u001b[0m\u001b[0;34m,\u001b[0m \u001b[0murl\u001b[0m\u001b[0;34m=\u001b[0m\u001b[0murl\u001b[0m\u001b[0;34m,\u001b[0m \u001b[0mtimeout_value\u001b[0m\u001b[0;34m=\u001b[0m\u001b[0mread_timeout\u001b[0m\u001b[0;34m)\u001b[0m\u001b[0;34m\u001b[0m\u001b[0;34m\u001b[0m\u001b[0m\n",
      "\u001b[0;32m/opt/anaconda3/envs/caveclient/lib/python3.9/site-packages/urllib3/packages/six.py\u001b[0m in \u001b[0;36mraise_from\u001b[0;34m(value, from_value)\u001b[0m\n",
      "\u001b[0;32m/opt/anaconda3/envs/caveclient/lib/python3.9/site-packages/urllib3/connectionpool.py\u001b[0m in \u001b[0;36m_make_request\u001b[0;34m(self, conn, method, url, timeout, chunked, **httplib_request_kw)\u001b[0m\n\u001b[1;32m    442\u001b[0m                 \u001b[0;31m# Python 3\u001b[0m\u001b[0;34m\u001b[0m\u001b[0;34m\u001b[0m\u001b[0;34m\u001b[0m\u001b[0m\n\u001b[1;32m    443\u001b[0m                 \u001b[0;32mtry\u001b[0m\u001b[0;34m:\u001b[0m\u001b[0;34m\u001b[0m\u001b[0;34m\u001b[0m\u001b[0m\n\u001b[0;32m--> 444\u001b[0;31m                     \u001b[0mhttplib_response\u001b[0m \u001b[0;34m=\u001b[0m \u001b[0mconn\u001b[0m\u001b[0;34m.\u001b[0m\u001b[0mgetresponse\u001b[0m\u001b[0;34m(\u001b[0m\u001b[0;34m)\u001b[0m\u001b[0;34m\u001b[0m\u001b[0;34m\u001b[0m\u001b[0m\n\u001b[0m\u001b[1;32m    445\u001b[0m                 \u001b[0;32mexcept\u001b[0m \u001b[0mBaseException\u001b[0m \u001b[0;32mas\u001b[0m \u001b[0me\u001b[0m\u001b[0;34m:\u001b[0m\u001b[0;34m\u001b[0m\u001b[0;34m\u001b[0m\u001b[0m\n\u001b[1;32m    446\u001b[0m                     \u001b[0;31m# Remove the TypeError from the exception chain in\u001b[0m\u001b[0;34m\u001b[0m\u001b[0;34m\u001b[0m\u001b[0;34m\u001b[0m\u001b[0m\n",
      "\u001b[0;32m/opt/anaconda3/envs/caveclient/lib/python3.9/http/client.py\u001b[0m in \u001b[0;36mgetresponse\u001b[0;34m(self)\u001b[0m\n\u001b[1;32m   1345\u001b[0m         \u001b[0;32mtry\u001b[0m\u001b[0;34m:\u001b[0m\u001b[0;34m\u001b[0m\u001b[0;34m\u001b[0m\u001b[0m\n\u001b[1;32m   1346\u001b[0m             \u001b[0;32mtry\u001b[0m\u001b[0;34m:\u001b[0m\u001b[0;34m\u001b[0m\u001b[0;34m\u001b[0m\u001b[0m\n\u001b[0;32m-> 1347\u001b[0;31m                 \u001b[0mresponse\u001b[0m\u001b[0;34m.\u001b[0m\u001b[0mbegin\u001b[0m\u001b[0;34m(\u001b[0m\u001b[0;34m)\u001b[0m\u001b[0;34m\u001b[0m\u001b[0;34m\u001b[0m\u001b[0m\n\u001b[0m\u001b[1;32m   1348\u001b[0m             \u001b[0;32mexcept\u001b[0m \u001b[0mConnectionError\u001b[0m\u001b[0;34m:\u001b[0m\u001b[0;34m\u001b[0m\u001b[0;34m\u001b[0m\u001b[0m\n\u001b[1;32m   1349\u001b[0m                 \u001b[0mself\u001b[0m\u001b[0;34m.\u001b[0m\u001b[0mclose\u001b[0m\u001b[0;34m(\u001b[0m\u001b[0;34m)\u001b[0m\u001b[0;34m\u001b[0m\u001b[0;34m\u001b[0m\u001b[0m\n",
      "\u001b[0;32m/opt/anaconda3/envs/caveclient/lib/python3.9/http/client.py\u001b[0m in \u001b[0;36mbegin\u001b[0;34m(self)\u001b[0m\n\u001b[1;32m    305\u001b[0m         \u001b[0;31m# read until we get a non-100 response\u001b[0m\u001b[0;34m\u001b[0m\u001b[0;34m\u001b[0m\u001b[0;34m\u001b[0m\u001b[0m\n\u001b[1;32m    306\u001b[0m         \u001b[0;32mwhile\u001b[0m \u001b[0;32mTrue\u001b[0m\u001b[0;34m:\u001b[0m\u001b[0;34m\u001b[0m\u001b[0;34m\u001b[0m\u001b[0m\n\u001b[0;32m--> 307\u001b[0;31m             \u001b[0mversion\u001b[0m\u001b[0;34m,\u001b[0m \u001b[0mstatus\u001b[0m\u001b[0;34m,\u001b[0m \u001b[0mreason\u001b[0m \u001b[0;34m=\u001b[0m \u001b[0mself\u001b[0m\u001b[0;34m.\u001b[0m\u001b[0m_read_status\u001b[0m\u001b[0;34m(\u001b[0m\u001b[0;34m)\u001b[0m\u001b[0;34m\u001b[0m\u001b[0;34m\u001b[0m\u001b[0m\n\u001b[0m\u001b[1;32m    308\u001b[0m             \u001b[0;32mif\u001b[0m \u001b[0mstatus\u001b[0m \u001b[0;34m!=\u001b[0m \u001b[0mCONTINUE\u001b[0m\u001b[0;34m:\u001b[0m\u001b[0;34m\u001b[0m\u001b[0;34m\u001b[0m\u001b[0m\n\u001b[1;32m    309\u001b[0m                 \u001b[0;32mbreak\u001b[0m\u001b[0;34m\u001b[0m\u001b[0;34m\u001b[0m\u001b[0m\n",
      "\u001b[0;32m/opt/anaconda3/envs/caveclient/lib/python3.9/http/client.py\u001b[0m in \u001b[0;36m_read_status\u001b[0;34m(self)\u001b[0m\n\u001b[1;32m    266\u001b[0m \u001b[0;34m\u001b[0m\u001b[0m\n\u001b[1;32m    267\u001b[0m     \u001b[0;32mdef\u001b[0m \u001b[0m_read_status\u001b[0m\u001b[0;34m(\u001b[0m\u001b[0mself\u001b[0m\u001b[0;34m)\u001b[0m\u001b[0;34m:\u001b[0m\u001b[0;34m\u001b[0m\u001b[0;34m\u001b[0m\u001b[0m\n\u001b[0;32m--> 268\u001b[0;31m         \u001b[0mline\u001b[0m \u001b[0;34m=\u001b[0m \u001b[0mstr\u001b[0m\u001b[0;34m(\u001b[0m\u001b[0mself\u001b[0m\u001b[0;34m.\u001b[0m\u001b[0mfp\u001b[0m\u001b[0;34m.\u001b[0m\u001b[0mreadline\u001b[0m\u001b[0;34m(\u001b[0m\u001b[0m_MAXLINE\u001b[0m \u001b[0;34m+\u001b[0m \u001b[0;36m1\u001b[0m\u001b[0;34m)\u001b[0m\u001b[0;34m,\u001b[0m \u001b[0;34m\"iso-8859-1\"\u001b[0m\u001b[0;34m)\u001b[0m\u001b[0;34m\u001b[0m\u001b[0;34m\u001b[0m\u001b[0m\n\u001b[0m\u001b[1;32m    269\u001b[0m         \u001b[0;32mif\u001b[0m \u001b[0mlen\u001b[0m\u001b[0;34m(\u001b[0m\u001b[0mline\u001b[0m\u001b[0;34m)\u001b[0m \u001b[0;34m>\u001b[0m \u001b[0m_MAXLINE\u001b[0m\u001b[0;34m:\u001b[0m\u001b[0;34m\u001b[0m\u001b[0;34m\u001b[0m\u001b[0m\n\u001b[1;32m    270\u001b[0m             \u001b[0;32mraise\u001b[0m \u001b[0mLineTooLong\u001b[0m\u001b[0;34m(\u001b[0m\u001b[0;34m\"status line\"\u001b[0m\u001b[0;34m)\u001b[0m\u001b[0;34m\u001b[0m\u001b[0;34m\u001b[0m\u001b[0m\n",
      "\u001b[0;32m/opt/anaconda3/envs/caveclient/lib/python3.9/socket.py\u001b[0m in \u001b[0;36mreadinto\u001b[0;34m(self, b)\u001b[0m\n\u001b[1;32m    702\u001b[0m         \u001b[0;32mwhile\u001b[0m \u001b[0;32mTrue\u001b[0m\u001b[0;34m:\u001b[0m\u001b[0;34m\u001b[0m\u001b[0;34m\u001b[0m\u001b[0m\n\u001b[1;32m    703\u001b[0m             \u001b[0;32mtry\u001b[0m\u001b[0;34m:\u001b[0m\u001b[0;34m\u001b[0m\u001b[0;34m\u001b[0m\u001b[0m\n\u001b[0;32m--> 704\u001b[0;31m                 \u001b[0;32mreturn\u001b[0m \u001b[0mself\u001b[0m\u001b[0;34m.\u001b[0m\u001b[0m_sock\u001b[0m\u001b[0;34m.\u001b[0m\u001b[0mrecv_into\u001b[0m\u001b[0;34m(\u001b[0m\u001b[0mb\u001b[0m\u001b[0;34m)\u001b[0m\u001b[0;34m\u001b[0m\u001b[0;34m\u001b[0m\u001b[0m\n\u001b[0m\u001b[1;32m    705\u001b[0m             \u001b[0;32mexcept\u001b[0m \u001b[0mtimeout\u001b[0m\u001b[0;34m:\u001b[0m\u001b[0;34m\u001b[0m\u001b[0;34m\u001b[0m\u001b[0m\n\u001b[1;32m    706\u001b[0m                 \u001b[0mself\u001b[0m\u001b[0;34m.\u001b[0m\u001b[0m_timeout_occurred\u001b[0m \u001b[0;34m=\u001b[0m \u001b[0;32mTrue\u001b[0m\u001b[0;34m\u001b[0m\u001b[0;34m\u001b[0m\u001b[0m\n",
      "\u001b[0;32m/opt/anaconda3/envs/caveclient/lib/python3.9/ssl.py\u001b[0m in \u001b[0;36mrecv_into\u001b[0;34m(self, buffer, nbytes, flags)\u001b[0m\n\u001b[1;32m   1239\u001b[0m                   \u001b[0;34m\"non-zero flags not allowed in calls to recv_into() on %s\"\u001b[0m \u001b[0;34m%\u001b[0m\u001b[0;34m\u001b[0m\u001b[0;34m\u001b[0m\u001b[0m\n\u001b[1;32m   1240\u001b[0m                   self.__class__)\n\u001b[0;32m-> 1241\u001b[0;31m             \u001b[0;32mreturn\u001b[0m \u001b[0mself\u001b[0m\u001b[0;34m.\u001b[0m\u001b[0mread\u001b[0m\u001b[0;34m(\u001b[0m\u001b[0mnbytes\u001b[0m\u001b[0;34m,\u001b[0m \u001b[0mbuffer\u001b[0m\u001b[0;34m)\u001b[0m\u001b[0;34m\u001b[0m\u001b[0;34m\u001b[0m\u001b[0m\n\u001b[0m\u001b[1;32m   1242\u001b[0m         \u001b[0;32melse\u001b[0m\u001b[0;34m:\u001b[0m\u001b[0;34m\u001b[0m\u001b[0;34m\u001b[0m\u001b[0m\n\u001b[1;32m   1243\u001b[0m             \u001b[0;32mreturn\u001b[0m \u001b[0msuper\u001b[0m\u001b[0;34m(\u001b[0m\u001b[0;34m)\u001b[0m\u001b[0;34m.\u001b[0m\u001b[0mrecv_into\u001b[0m\u001b[0;34m(\u001b[0m\u001b[0mbuffer\u001b[0m\u001b[0;34m,\u001b[0m \u001b[0mnbytes\u001b[0m\u001b[0;34m,\u001b[0m \u001b[0mflags\u001b[0m\u001b[0;34m)\u001b[0m\u001b[0;34m\u001b[0m\u001b[0;34m\u001b[0m\u001b[0m\n",
      "\u001b[0;32m/opt/anaconda3/envs/caveclient/lib/python3.9/ssl.py\u001b[0m in \u001b[0;36mread\u001b[0;34m(self, len, buffer)\u001b[0m\n\u001b[1;32m   1097\u001b[0m         \u001b[0;32mtry\u001b[0m\u001b[0;34m:\u001b[0m\u001b[0;34m\u001b[0m\u001b[0;34m\u001b[0m\u001b[0m\n\u001b[1;32m   1098\u001b[0m             \u001b[0;32mif\u001b[0m \u001b[0mbuffer\u001b[0m \u001b[0;32mis\u001b[0m \u001b[0;32mnot\u001b[0m \u001b[0;32mNone\u001b[0m\u001b[0;34m:\u001b[0m\u001b[0;34m\u001b[0m\u001b[0;34m\u001b[0m\u001b[0m\n\u001b[0;32m-> 1099\u001b[0;31m                 \u001b[0;32mreturn\u001b[0m \u001b[0mself\u001b[0m\u001b[0;34m.\u001b[0m\u001b[0m_sslobj\u001b[0m\u001b[0;34m.\u001b[0m\u001b[0mread\u001b[0m\u001b[0;34m(\u001b[0m\u001b[0mlen\u001b[0m\u001b[0;34m,\u001b[0m \u001b[0mbuffer\u001b[0m\u001b[0;34m)\u001b[0m\u001b[0;34m\u001b[0m\u001b[0;34m\u001b[0m\u001b[0m\n\u001b[0m\u001b[1;32m   1100\u001b[0m             \u001b[0;32melse\u001b[0m\u001b[0;34m:\u001b[0m\u001b[0;34m\u001b[0m\u001b[0;34m\u001b[0m\u001b[0m\n\u001b[1;32m   1101\u001b[0m                 \u001b[0;32mreturn\u001b[0m \u001b[0mself\u001b[0m\u001b[0;34m.\u001b[0m\u001b[0m_sslobj\u001b[0m\u001b[0;34m.\u001b[0m\u001b[0mread\u001b[0m\u001b[0;34m(\u001b[0m\u001b[0mlen\u001b[0m\u001b[0;34m)\u001b[0m\u001b[0;34m\u001b[0m\u001b[0;34m\u001b[0m\u001b[0m\n",
      "\u001b[0;31mKeyboardInterrupt\u001b[0m: "
     ]
    }
   ],
   "source": [
    "sk=pcg_skel.pcg_skeleton(seg_id, client=client,\n",
    " cache='service')"
   ]
  },
  {
   "cell_type": "code",
   "execution_count": 53,
   "metadata": {},
   "outputs": [],
   "source": [
    "ska = trimesh_vtk.skeleton_actor(sk)\n"
   ]
  },
  {
   "cell_type": "code",
   "execution_count": 34,
   "metadata": {},
   "outputs": [
    {
     "data": {
      "text/html": [
       "<div>\n",
       "<style scoped>\n",
       "    .dataframe tbody tr th:only-of-type {\n",
       "        vertical-align: middle;\n",
       "    }\n",
       "\n",
       "    .dataframe tbody tr th {\n",
       "        vertical-align: top;\n",
       "    }\n",
       "\n",
       "    .dataframe thead th {\n",
       "        text-align: right;\n",
       "    }\n",
       "</style>\n",
       "<table border=\"1\" class=\"dataframe\">\n",
       "  <thead>\n",
       "    <tr style=\"text-align: right;\">\n",
       "      <th></th>\n",
       "      <th>id</th>\n",
       "      <th>valid</th>\n",
       "      <th>pre_pt_supervoxel_id</th>\n",
       "      <th>pre_pt_root_id</th>\n",
       "      <th>post_pt_supervoxel_id</th>\n",
       "      <th>post_pt_root_id</th>\n",
       "      <th>size</th>\n",
       "      <th>pre_pt_position</th>\n",
       "      <th>post_pt_position</th>\n",
       "      <th>ctr_pt_position</th>\n",
       "    </tr>\n",
       "  </thead>\n",
       "  <tbody>\n",
       "    <tr>\n",
       "      <th>0</th>\n",
       "      <td>197246597</td>\n",
       "      <td>t</td>\n",
       "      <td>92272185108268508</td>\n",
       "      <td>864691136825637486</td>\n",
       "      <td>92272185108277741</td>\n",
       "      <td>864691135730638521</td>\n",
       "      <td>18248</td>\n",
       "      <td>[199808, 200542, 23430]</td>\n",
       "      <td>[199822, 200480, 23439]</td>\n",
       "      <td>[199860, 200532, 23437]</td>\n",
       "    </tr>\n",
       "    <tr>\n",
       "      <th>1</th>\n",
       "      <td>176216759</td>\n",
       "      <td>t</td>\n",
       "      <td>90159610887449783</td>\n",
       "      <td>864691136729788526</td>\n",
       "      <td>90159610887447862</td>\n",
       "      <td>864691135730638521</td>\n",
       "      <td>14288</td>\n",
       "      <td>[184694, 189536, 22998]</td>\n",
       "      <td>[184724, 189628, 23005]</td>\n",
       "      <td>[184708, 189632, 22997]</td>\n",
       "    </tr>\n",
       "    <tr>\n",
       "      <th>2</th>\n",
       "      <td>178565686</td>\n",
       "      <td>t</td>\n",
       "      <td>90779254408682739</td>\n",
       "      <td>864691135519104708</td>\n",
       "      <td>90779254408682701</td>\n",
       "      <td>864691135730638521</td>\n",
       "      <td>59336</td>\n",
       "      <td>[189168, 87560, 22593]</td>\n",
       "      <td>[189058, 87514, 22592]</td>\n",
       "      <td>[189120, 87512, 22593]</td>\n",
       "    </tr>\n",
       "    <tr>\n",
       "      <th>3</th>\n",
       "      <td>189946096</td>\n",
       "      <td>t</td>\n",
       "      <td>91499022275361306</td>\n",
       "      <td>864691134760418253</td>\n",
       "      <td>91499022275356552</td>\n",
       "      <td>864691135730638521</td>\n",
       "      <td>19240</td>\n",
       "      <td>[194350, 207226, 23284]</td>\n",
       "      <td>[194340, 207238, 23277]</td>\n",
       "      <td>[194380, 207196, 23279]</td>\n",
       "    </tr>\n",
       "    <tr>\n",
       "      <th>4</th>\n",
       "      <td>176248876</td>\n",
       "      <td>t</td>\n",
       "      <td>90232797263952496</td>\n",
       "      <td>864691135501569858</td>\n",
       "      <td>90232797263967866</td>\n",
       "      <td>864691135730638521</td>\n",
       "      <td>8540</td>\n",
       "      <td>[185154, 210368, 23621]</td>\n",
       "      <td>[185244, 210358, 23633]</td>\n",
       "      <td>[185186, 210344, 23626]</td>\n",
       "    </tr>\n",
       "    <tr>\n",
       "      <th>...</th>\n",
       "      <td>...</td>\n",
       "      <td>...</td>\n",
       "      <td>...</td>\n",
       "      <td>...</td>\n",
       "      <td>...</td>\n",
       "      <td>...</td>\n",
       "      <td>...</td>\n",
       "      <td>...</td>\n",
       "      <td>...</td>\n",
       "      <td>...</td>\n",
       "    </tr>\n",
       "    <tr>\n",
       "      <th>11120</th>\n",
       "      <td>169533309</td>\n",
       "      <td>t</td>\n",
       "      <td>89811340713309023</td>\n",
       "      <td>864691136849609326</td>\n",
       "      <td>89811340713320133</td>\n",
       "      <td>864691135730638521</td>\n",
       "      <td>4272</td>\n",
       "      <td>[182114, 215998, 23789]</td>\n",
       "      <td>[182154, 215994, 23798]</td>\n",
       "      <td>[182184, 216014, 23796]</td>\n",
       "    </tr>\n",
       "    <tr>\n",
       "      <th>11121</th>\n",
       "      <td>223942425</td>\n",
       "      <td>t</td>\n",
       "      <td>94103765120473322</td>\n",
       "      <td>864691136886102382</td>\n",
       "      <td>94103765120466653</td>\n",
       "      <td>864691135730638521</td>\n",
       "      <td>1928</td>\n",
       "      <td>[213290, 215432, 21947]</td>\n",
       "      <td>[213262, 215472, 21943]</td>\n",
       "      <td>[213323, 215519, 21941]</td>\n",
       "    </tr>\n",
       "    <tr>\n",
       "      <th>11122</th>\n",
       "      <td>169038531</td>\n",
       "      <td>t</td>\n",
       "      <td>89875936685973098</td>\n",
       "      <td>864691135506214596</td>\n",
       "      <td>89946305430152951</td>\n",
       "      <td>864691135730638521</td>\n",
       "      <td>14112</td>\n",
       "      <td>[182754, 173176, 21303]</td>\n",
       "      <td>[182854, 173178, 21302]</td>\n",
       "      <td>[182794, 173202, 21302]</td>\n",
       "    </tr>\n",
       "    <tr>\n",
       "      <th>11123</th>\n",
       "      <td>183137103</td>\n",
       "      <td>t</td>\n",
       "      <td>90654391119816919</td>\n",
       "      <td>864691135593774123</td>\n",
       "      <td>90654391119808627</td>\n",
       "      <td>864691135730638521</td>\n",
       "      <td>3096</td>\n",
       "      <td>[188048, 205984, 22862]</td>\n",
       "      <td>[188036, 205998, 22855]</td>\n",
       "      <td>[188119, 205897, 22860]</td>\n",
       "    </tr>\n",
       "    <tr>\n",
       "      <th>11124</th>\n",
       "      <td>137619397</td>\n",
       "      <td>t</td>\n",
       "      <td>87261847857798058</td>\n",
       "      <td>864691135135073049</td>\n",
       "      <td>87261916577286132</td>\n",
       "      <td>864691135730638521</td>\n",
       "      <td>6600</td>\n",
       "      <td>[163858, 95424, 21602]</td>\n",
       "      <td>[163804, 95442, 21604]</td>\n",
       "      <td>[163798, 95468, 21611]</td>\n",
       "    </tr>\n",
       "  </tbody>\n",
       "</table>\n",
       "<p>11125 rows × 10 columns</p>\n",
       "</div>"
      ],
      "text/plain": [
       "              id valid  pre_pt_supervoxel_id      pre_pt_root_id  \\\n",
       "0      197246597     t     92272185108268508  864691136825637486   \n",
       "1      176216759     t     90159610887449783  864691136729788526   \n",
       "2      178565686     t     90779254408682739  864691135519104708   \n",
       "3      189946096     t     91499022275361306  864691134760418253   \n",
       "4      176248876     t     90232797263952496  864691135501569858   \n",
       "...          ...   ...                   ...                 ...   \n",
       "11120  169533309     t     89811340713309023  864691136849609326   \n",
       "11121  223942425     t     94103765120473322  864691136886102382   \n",
       "11122  169038531     t     89875936685973098  864691135506214596   \n",
       "11123  183137103     t     90654391119816919  864691135593774123   \n",
       "11124  137619397     t     87261847857798058  864691135135073049   \n",
       "\n",
       "       post_pt_supervoxel_id     post_pt_root_id   size  \\\n",
       "0          92272185108277741  864691135730638521  18248   \n",
       "1          90159610887447862  864691135730638521  14288   \n",
       "2          90779254408682701  864691135730638521  59336   \n",
       "3          91499022275356552  864691135730638521  19240   \n",
       "4          90232797263967866  864691135730638521   8540   \n",
       "...                      ...                 ...    ...   \n",
       "11120      89811340713320133  864691135730638521   4272   \n",
       "11121      94103765120466653  864691135730638521   1928   \n",
       "11122      89946305430152951  864691135730638521  14112   \n",
       "11123      90654391119808627  864691135730638521   3096   \n",
       "11124      87261916577286132  864691135730638521   6600   \n",
       "\n",
       "               pre_pt_position         post_pt_position  \\\n",
       "0      [199808, 200542, 23430]  [199822, 200480, 23439]   \n",
       "1      [184694, 189536, 22998]  [184724, 189628, 23005]   \n",
       "2       [189168, 87560, 22593]   [189058, 87514, 22592]   \n",
       "3      [194350, 207226, 23284]  [194340, 207238, 23277]   \n",
       "4      [185154, 210368, 23621]  [185244, 210358, 23633]   \n",
       "...                        ...                      ...   \n",
       "11120  [182114, 215998, 23789]  [182154, 215994, 23798]   \n",
       "11121  [213290, 215432, 21947]  [213262, 215472, 21943]   \n",
       "11122  [182754, 173176, 21303]  [182854, 173178, 21302]   \n",
       "11123  [188048, 205984, 22862]  [188036, 205998, 22855]   \n",
       "11124   [163858, 95424, 21602]   [163804, 95442, 21604]   \n",
       "\n",
       "               ctr_pt_position  \n",
       "0      [199860, 200532, 23437]  \n",
       "1      [184708, 189632, 22997]  \n",
       "2       [189120, 87512, 22593]  \n",
       "3      [194380, 207196, 23279]  \n",
       "4      [185186, 210344, 23626]  \n",
       "...                        ...  \n",
       "11120  [182184, 216014, 23796]  \n",
       "11121  [213323, 215519, 21941]  \n",
       "11122  [182794, 173202, 21302]  \n",
       "11123  [188119, 205897, 22860]  \n",
       "11124   [163798, 95468, 21611]  \n",
       "\n",
       "[11125 rows x 10 columns]"
      ]
     },
     "execution_count": 34,
     "metadata": {},
     "output_type": "execute_result"
    }
   ],
   "source": [
    "inputs= client.materialize.query_table('synapses_pni_2',\n",
    "filter_equal_dict={'post_pt_root_id':seg_id},\n",
    "desired_resolution=[4,4,40])\n",
    "inputs"
   ]
  },
  {
   "cell_type": "code",
   "execution_count": 30,
   "metadata": {},
   "outputs": [],
   "source": [
    "import nglui"
   ]
  },
  {
   "cell_type": "code",
   "execution_count": 40,
   "metadata": {},
   "outputs": [],
   "source": [
    "img_layer, seg_layer = nglui.statebuilder.from_client(client)"
   ]
  },
  {
   "cell_type": "code",
   "execution_count": 49,
   "metadata": {},
   "outputs": [],
   "source": [
    "point_mapper = nglui.statebuilder.PointMapper(point_column='ctr_pt_position',\n",
    "                                                linked_segmentation_column='pre_pt_root_id')\n",
    "ann_layer = nglui.statebuilder.AnnotationLayerConfig('inputs', mapping_rules=[point_mapper], linked_segmentation_layer='seg')\n",
    "sb = nglui.statebuilder.StateBuilder(layers=[img_layer, seg_layer, ann_layer])\n"
   ]
  },
  {
   "cell_type": "code",
   "execution_count": 57,
   "metadata": {},
   "outputs": [],
   "source": [
    "d=sb.render_state(inputs.query('size>50000'), return_as='dict')"
   ]
  },
  {
   "cell_type": "code",
   "execution_count": null,
   "metadata": {},
   "outputs": [],
   "source": []
  },
  {
   "cell_type": "code",
   "execution_count": 58,
   "metadata": {},
   "outputs": [
    {
     "data": {
      "text/plain": [
       "'https://neuroglancer.neuvue.io/?json_url=https://global.daf-apis.com/nglstate/api/v1/5029189627412480'"
      ]
     },
     "execution_count": 58,
     "metadata": {},
     "output_type": "execute_result"
    }
   ],
   "source": [
    "link_id=client.state.upload_state_json(d)\n",
    "client.state.build_neuroglancer_url(link_id)"
   ]
  },
  {
   "cell_type": "code",
   "execution_count": 59,
   "metadata": {},
   "outputs": [],
   "source": [
    "point_mapper = nglui.statebuilder.PointMapper"
   ]
  },
  {
   "cell_type": "code",
   "execution_count": 60,
   "metadata": {},
   "outputs": [
    {
     "ename": "NameError",
     "evalue": "name 'ska' is not defined",
     "output_type": "error",
     "traceback": [
      "\u001b[0;31m---------------------------------------------------------------------------\u001b[0m",
      "\u001b[0;31mNameError\u001b[0m                                 Traceback (most recent call last)",
      "\u001b[0;32m/var/folders/kx/xq42kw197c5_qw6kxgnr4nkr0000gq/T/ipykernel_30460/2444148521.py\u001b[0m in \u001b[0;36m<module>\u001b[0;34m\u001b[0m\n\u001b[0;32m----> 1\u001b[0;31m \u001b[0mtrimesh_vtk\u001b[0m\u001b[0;34m.\u001b[0m\u001b[0mrender_actors\u001b[0m\u001b[0;34m(\u001b[0m\u001b[0;34m[\u001b[0m\u001b[0mma\u001b[0m\u001b[0;34m,\u001b[0m \u001b[0mska\u001b[0m\u001b[0;34m]\u001b[0m\u001b[0;34m)\u001b[0m\u001b[0;34m\u001b[0m\u001b[0;34m\u001b[0m\u001b[0m\n\u001b[0m",
      "\u001b[0;31mNameError\u001b[0m: name 'ska' is not defined"
     ]
    }
   ],
   "source": [
    "trimesh_vtk.render_actors([ma, ska])"
   ]
  },
  {
   "cell_type": "code",
   "execution_count": 4,
   "metadata": {},
   "outputs": [
    {
     "ename": "NameError",
     "evalue": "name 'mesh' is not defined",
     "output_type": "error",
     "traceback": [
      "\u001b[0;31m---------------------------------------------------------------------------\u001b[0m",
      "\u001b[0;31mNameError\u001b[0m                                 Traceback (most recent call last)",
      "\u001b[0;32m/var/folders/kx/xq42kw197c5_qw6kxgnr4nkr0000gq/T/ipykernel_29803/4072834698.py\u001b[0m in \u001b[0;36m<module>\u001b[0;34m\u001b[0m\n\u001b[1;32m      1\u001b[0m \u001b[0;31m# let's make a simple 2d visualization of the\u001b[0m\u001b[0;34m\u001b[0m\u001b[0;34m\u001b[0m\u001b[0;34m\u001b[0m\u001b[0m\n\u001b[1;32m      2\u001b[0m \u001b[0mf\u001b[0m\u001b[0;34m,\u001b[0m\u001b[0max\u001b[0m \u001b[0;34m=\u001b[0m \u001b[0mplt\u001b[0m\u001b[0;34m.\u001b[0m\u001b[0msubplots\u001b[0m\u001b[0;34m(\u001b[0m\u001b[0mfigsize\u001b[0m\u001b[0;34m=\u001b[0m\u001b[0;34m(\u001b[0m\u001b[0;36m8\u001b[0m\u001b[0;34m,\u001b[0m\u001b[0;36m8\u001b[0m\u001b[0;34m)\u001b[0m\u001b[0;34m)\u001b[0m\u001b[0;34m\u001b[0m\u001b[0;34m\u001b[0m\u001b[0m\n\u001b[0;32m----> 3\u001b[0;31m \u001b[0max\u001b[0m\u001b[0;34m.\u001b[0m\u001b[0mscatter\u001b[0m\u001b[0;34m(\u001b[0m\u001b[0mmesh\u001b[0m\u001b[0;34m.\u001b[0m\u001b[0mvertices\u001b[0m\u001b[0;34m[\u001b[0m\u001b[0;34m:\u001b[0m\u001b[0;34m:\u001b[0m\u001b[0;36m50\u001b[0m\u001b[0;34m,\u001b[0m\u001b[0;36m0\u001b[0m\u001b[0;34m]\u001b[0m\u001b[0;34m,\u001b[0m \u001b[0mmesh\u001b[0m\u001b[0;34m.\u001b[0m\u001b[0mvertices\u001b[0m\u001b[0;34m[\u001b[0m\u001b[0;34m:\u001b[0m\u001b[0;34m:\u001b[0m\u001b[0;36m50\u001b[0m\u001b[0;34m,\u001b[0m\u001b[0;36m1\u001b[0m\u001b[0;34m]\u001b[0m\u001b[0;34m,\u001b[0m \u001b[0ms\u001b[0m\u001b[0;34m=\u001b[0m\u001b[0;36m1\u001b[0m\u001b[0;34m,\u001b[0m \u001b[0malpha\u001b[0m\u001b[0;34m=\u001b[0m\u001b[0;36m.2\u001b[0m\u001b[0;34m)\u001b[0m\u001b[0;34m\u001b[0m\u001b[0;34m\u001b[0m\u001b[0m\n\u001b[0m\u001b[1;32m      4\u001b[0m \u001b[0;31m# add in the locations of synapses between cell bodies\u001b[0m\u001b[0;34m\u001b[0m\u001b[0;34m\u001b[0m\u001b[0;34m\u001b[0m\u001b[0m\n\u001b[1;32m      5\u001b[0m \u001b[0;34m\u001b[0m\u001b[0m\n",
      "\u001b[0;31mNameError\u001b[0m: name 'mesh' is not defined"
     ]
    },
    {
     "data": {
      "image/png": "[encoded data removed]",
      "text/plain": [
       "<Figure size 576x576 with 1 Axes>"
      ]
     },
     "metadata": {
      "needs_background": "light"
     },
     "output_type": "display_data"
    }
   ],
   "source": [
    "# let's make a simple 2d visualization of the \n",
    "f,ax = plt.subplots(figsize=(8,8))\n",
    "ax.scatter(mesh.vertices[::50,0], mesh.vertices[::50,1], s=1, alpha=.2)\n",
    "# add in the locations of synapses between cell bodies\n",
    "\n",
    "#ax.scatter(syn_xyz[:,0], syn_xyz[:,1], c='r', s=50)\n",
    "ax.set_aspect('equal')\n",
    "ax.set_ylim(np.max(mesh.vertices[:,1]), np.min(mesh.vertices[:,1]))\n"
   ]
  },
  {
   "cell_type": "code",
   "execution_count": null,
   "metadata": {},
   "outputs": [],
   "source": [
    "# find the closest mesh point indices to these synapses\n",
    "# returns distance and index\n",
    "# makes use of kdtree on mesh vertices to speed lookup\n",
    "syn_ds, syn_mesh_inds=mesh.kdtree.query(syn_xyz)"
   ]
  },
  {
   "cell_type": "code",
   "execution_count": 10,
   "metadata": {},
   "outputs": [
    {
     "data": {
      "text/plain": [
       "(array([19.27634282, 69.44647263, 51.6071754 , 59.55694368, 29.38253545,\n",
       "        63.28300007, 93.31838674, 58.17857646, 47.32863826, 50.31157332]),\n",
       " array([1117961,  323425,  438223,  827034,  888615,   44148,   71018,\n",
       "        1004216, 1424790,  393730]))"
      ]
     },
     "execution_count": 10,
     "metadata": {},
     "output_type": "execute_result"
    }
   ],
   "source": [
    "# all the distances are quite close < 110 nm\n",
    "# mesh vertices have ~150 nm spacing\n",
    "syn_ds, syn_mesh_inds"
   ]
  },
  {
   "cell_type": "code",
   "execution_count": 11,
   "metadata": {},
   "outputs": [],
   "source": [
    "# import scipy's spare graph library\n",
    "from scipy import sparse\n"
   ]
  },
  {
   "cell_type": "code",
   "execution_count": 12,
   "metadata": {},
   "outputs": [],
   "source": [
    "# now we can use graph algorithms to calculate shortest paths on the mesh\n",
    "# this for example finds all the distances from the first synaspe\n",
    "# along with a data structure that leaves pointers about\n",
    "# how to get back to the that index\n",
    "ds, path = sparse.csgraph.dijkstra(mesh.csgraph,\n",
    "                             directed=False,\n",
    "                             return_predecessors=True,\n",
    "                             indices=syn_mesh_inds[0])"
   ]
  },
  {
   "cell_type": "code",
   "execution_count": 13,
   "metadata": {},
   "outputs": [],
   "source": [
    "# convert the predecessors into a path from synapse 1 to synapse 0\n",
    "syn_to_syn_path = utils.get_path(syn_mesh_inds[0], syn_mesh_inds[1], path)"
   ]
  },
  {
   "cell_type": "code",
   "execution_count": 14,
   "metadata": {},
   "outputs": [
    {
     "data": {
      "text/plain": [
       "(TrackedArray(304642.6875), TrackedArray(144633.40625))"
      ]
     },
     "execution_count": 14,
     "metadata": {},
     "output_type": "execute_result"
    },
    {
     "data": {
      "image/png": "[encoded data removed]",
      "text/plain": [
       "<Figure size 576x576 with 1 Axes>"
      ]
     },
     "metadata": {
      "needs_background": "light"
     },
     "output_type": "display_data"
    }
   ],
   "source": [
    "# let's make a simple 2d visualization of thes results\n",
    "f,ax = plt.subplots(figsize=(8,8))\n",
    "\n",
    "# now we will color the mesh vertices by how far they are from the synpase\n",
    "ax.scatter(mesh.vertices[::50,0], mesh.vertices[::50,1], c=ds[::50], s=1, alpha=.2)\n",
    "\n",
    "# let plot the path between the synapses\n",
    "ax.plot(mesh.vertices[syn_to_syn_path,0], mesh.vertices[syn_to_syn_path,1], 'b', linewidth=5)\n",
    "# and plot the synapse locations again\n",
    "ax.scatter(syn_xyz[:,0], syn_xyz[:,1], c='r', s=50)\n",
    "ax.set_aspect('equal')\n",
    "ax.set_ylim(np.max(mesh.vertices[:,1]), np.min(mesh.vertices[:,1]))\n"
   ]
  },
  {
   "cell_type": "markdown",
   "metadata": {},
   "source": [
    "A word of caution that sometimes a neuron contacts itself, such as when it's axon touches it's own dendrite.  \n",
    "Also there are gaps in the meshes when missing data caused a break in the segmentation that was fixed by proofreading.\n",
    "\n",
    "In such cases the mesh topology does not reflect the real topology of cell membranes.\n",
    "The meshes in the tar file on the website are better in this respect but are only for the cells with cell bodies in the volume.\n",
    "\n",
    "If you unpack the tar file and set the disk_cache_directory to that directory, the MeshMeta will read those meshes instead of downloading new files.\n",
    "\n",
    "These mesh files are not used in the Binder example as it would make the image too large."
   ]
  },
  {
   "cell_type": "code",
   "execution_count": 15,
   "metadata": {},
   "outputs": [],
   "source": [
    "# it's more fun to visualize things in 3d though...\n",
    "# neuroglancer is great, but its more difficult to control\n",
    "# exactly what you want to visualize\n",
    "# such as only components of mesh, or colorings\n",
    "# see MeshParty documentation for more options in this area"
   ]
  },
  {
   "cell_type": "code",
   "execution_count": 16,
   "metadata": {},
   "outputs": [],
   "source": [
    "from itkwidgets import view\n",
    "\n",
    "# need to convert path to a set of edges\n",
    "edges = utils.paths_to_edges([syn_to_syn_path])\n",
    "# create a set of vertices and edges for path\n",
    "sk_verts, sk_edges = trimesh_vtk.remove_unused_verts(mesh.vertices,\n",
    "                                                     edges)\n",
    "# create a vtk polydata from this\n",
    "sk_poly = trimesh_vtk.graph_to_vtk(sk_verts, sk_edges)\n",
    "# step 1\n",
    "\n",
    "# convert cell mesh to vtkpolydata as well\n",
    "poly_data = trimesh_vtk.trimesh_to_vtk(mesh.vertices, mesh.faces, None)\n",
    "\n",
    "# step 2\n",
    "# then create a viewer with this view function\n",
    "# pass in polydata objects, what colors you want\n",
    "# see docstring for more options\n",
    "viewer=view(geometries=[poly_data, sk_poly],\n",
    "            geometry_colors=['g','b'], \n",
    "            geometry_opacities=[.2, 1.0],\n",
    "            ui_collapsed=True)\n"
   ]
  },
  {
   "cell_type": "code",
   "execution_count": 2,
   "metadata": {},
   "outputs": [
    {
     "data": {
      "application/vnd.jupyter.widget-view+json": {
       "model_id": "519c19e8ff2d46e98fa7aefba63eafca",
       "version_major": 2,
       "version_minor": 0
      },
      "text/plain": [
       "Viewer(geometries=[], gradient_opacity=0.22, point_sets=[])"
      ]
     },
     "metadata": {},
     "output_type": "display_data"
    }
   ],
   "source": [
    "viewer"
   ]
  }
 ],
 "metadata": {
  "kernelspec": {
   "display_name": "Python 3",
   "language": "python",
   "name": "python3"
  },
  "language_info": {
   "codemirror_mode": {
    "name": "ipython",
    "version": 3
   },
   "file_extension": ".py",
   "mimetype": "text/x-python",
   "name": "python",
   "nbconvert_exporter": "python",
   "pygments_lexer": "ipython3",
   "version": "3.9.0"
  }
 },
 "nbformat": 4,
 "nbformat_minor": 4
}
