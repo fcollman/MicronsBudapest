{
 "cells": [
  {
   "cell_type": "code",
   "execution_count": 116,
   "id": "0dd980ab",
   "metadata": {},
   "outputs": [],
   "source": [
    "import numpy as np\n",
    "import pandas as pd\n",
    "from caveclient import CAVEclient\n",
    "import datetime\n",
    "import tqdm"
   ]
  },
  {
   "cell_type": "code",
   "execution_count": 117,
   "id": "8d364d6d",
   "metadata": {},
   "outputs": [],
   "source": [
    "client = CAVEclient('minnie65_phase3_v1')"
   ]
  },
  {
   "cell_type": "code",
   "execution_count": 118,
   "id": "b5c55807",
   "metadata": {},
   "outputs": [],
   "source": [
    "now = datetime.datetime.utcnow()"
   ]
  },
  {
   "cell_type": "code",
   "execution_count": 119,
   "id": "c6d4e58d",
   "metadata": {},
   "outputs": [],
   "source": [
    "nuc_nrn_df = client.materialize.live_query(table='nucleus_neuron_svm',\n",
    "                                           timestamp=now)\n",
    "nrn_qc_df = client.materialize.live_query(table='allen_neuron_nonneuron_svm_v0',\n",
    "                                           timestamp=now,\n",
    "                                           filter_equal_dict={'cell_type':'neuron'})\n",
    "nuc_det_df = client.materialize.live_query(table='nucleus_detection_v0',\n",
    "                                           timestamp=now)\n",
    "\n",
    "nuc_det_df=nuc_det_df.set_index('id')\n",
    "nrn_qc_df=nrn_qc_df.set_index('id')\n",
    "nuc_nrn_df=nuc_nrn_df.set_index('id')\n",
    "\n",
    "dfm = pd.merge(nuc_nrn_df, nuc_det_df[['volume']], left_index=True, right_index=True, how='inner')\n",
    "dfm = pd.merge(dfm, nrn_qc_df[['cell_type']], left_index=True, right_index=True, suffixes=['', '_qc'], how='left')\n",
    "\n",
    "n_nuc_det=dfm.groupby('pt_root_id').valid.agg(len)\n",
    "n_nuc_det.name='num_nuc_det'\n",
    "n_neuron_det = dfm.query('cell_type ==\"neuron\"').groupby('pt_root_id').valid.agg(len)\n",
    "n_neuron_det.name='n_neuron_det'\n",
    "n_neuron_qc = dfm.query('cell_type_qc ==\"neuron\"').groupby('pt_root_id').valid.agg(len)\n",
    "n_neuron_qc.name = 'n_neuron_qc'\n",
    "nuc_count = pd.DataFrame([n_nuc_det, n_neuron_det, n_neuron_qc]).T\n",
    "\n",
    "# these are the neurons with somas mostly in the volume, so which of these have more than\n",
    "# on nucleus that is thought to be a neuron is the most important set of cells\n",
    "# to focus on splitting, so this has been driving APL work\n"
   ]
  },
  {
   "cell_type": "code",
   "execution_count": 120,
   "id": "00d9662c",
   "metadata": {},
   "outputs": [],
   "source": [
    "nuc_count.fillna(0, inplace=True)"
   ]
  },
  {
   "cell_type": "code",
   "execution_count": 121,
   "id": "adee4197",
   "metadata": {},
   "outputs": [
    {
     "data": {
      "text/html": [
       "<div>\n",
       "<style scoped>\n",
       "    .dataframe tbody tr th:only-of-type {\n",
       "        vertical-align: middle;\n",
       "    }\n",
       "\n",
       "    .dataframe tbody tr th {\n",
       "        vertical-align: top;\n",
       "    }\n",
       "\n",
       "    .dataframe thead th {\n",
       "        text-align: right;\n",
       "    }\n",
       "</style>\n",
       "<table border=\"1\" class=\"dataframe\">\n",
       "  <thead>\n",
       "    <tr style=\"text-align: right;\">\n",
       "      <th></th>\n",
       "      <th>num_nuc_det</th>\n",
       "      <th>n_neuron_det</th>\n",
       "      <th>n_neuron_qc</th>\n",
       "    </tr>\n",
       "    <tr>\n",
       "      <th>pt_root_id</th>\n",
       "      <th></th>\n",
       "      <th></th>\n",
       "      <th></th>\n",
       "    </tr>\n",
       "  </thead>\n",
       "  <tbody>\n",
       "    <tr>\n",
       "      <th>0</th>\n",
       "      <td>14305.0</td>\n",
       "      <td>6813.0</td>\n",
       "      <td>1.0</td>\n",
       "    </tr>\n",
       "    <tr>\n",
       "      <th>864691131658969700</th>\n",
       "      <td>1.0</td>\n",
       "      <td>0.0</td>\n",
       "      <td>0.0</td>\n",
       "    </tr>\n",
       "    <tr>\n",
       "      <th>864691131705161142</th>\n",
       "      <td>1.0</td>\n",
       "      <td>0.0</td>\n",
       "      <td>0.0</td>\n",
       "    </tr>\n",
       "    <tr>\n",
       "      <th>864691131800703080</th>\n",
       "      <td>1.0</td>\n",
       "      <td>1.0</td>\n",
       "      <td>0.0</td>\n",
       "    </tr>\n",
       "    <tr>\n",
       "      <th>864691131820044899</th>\n",
       "      <td>1.0</td>\n",
       "      <td>0.0</td>\n",
       "      <td>0.0</td>\n",
       "    </tr>\n",
       "  </tbody>\n",
       "</table>\n",
       "</div>"
      ],
      "text/plain": [
       "                    num_nuc_det  n_neuron_det  n_neuron_qc\n",
       "pt_root_id                                                \n",
       "0                       14305.0        6813.0          1.0\n",
       "864691131658969700          1.0           0.0          0.0\n",
       "864691131705161142          1.0           0.0          0.0\n",
       "864691131800703080          1.0           1.0          0.0\n",
       "864691131820044899          1.0           0.0          0.0"
      ]
     },
     "execution_count": 121,
     "metadata": {},
     "output_type": "execute_result"
    }
   ],
   "source": [
    "nuc_count.head()"
   ]
  },
  {
   "cell_type": "code",
   "execution_count": 123,
   "id": "21b5b4ba",
   "metadata": {},
   "outputs": [
    {
     "data": {
      "text/html": [
       "<div>\n",
       "<style scoped>\n",
       "    .dataframe tbody tr th:only-of-type {\n",
       "        vertical-align: middle;\n",
       "    }\n",
       "\n",
       "    .dataframe tbody tr th {\n",
       "        vertical-align: top;\n",
       "    }\n",
       "\n",
       "    .dataframe thead th {\n",
       "        text-align: right;\n",
       "    }\n",
       "</style>\n",
       "<table border=\"1\" class=\"dataframe\">\n",
       "  <thead>\n",
       "    <tr style=\"text-align: right;\">\n",
       "      <th></th>\n",
       "      <th>num_nuc_det</th>\n",
       "      <th>n_neuron_det</th>\n",
       "      <th>n_neuron_qc</th>\n",
       "    </tr>\n",
       "    <tr>\n",
       "      <th>pt_root_id</th>\n",
       "      <th></th>\n",
       "      <th></th>\n",
       "      <th></th>\n",
       "    </tr>\n",
       "  </thead>\n",
       "  <tbody>\n",
       "    <tr>\n",
       "      <th>0</th>\n",
       "      <td>14305.0</td>\n",
       "      <td>6813.0</td>\n",
       "      <td>1.0</td>\n",
       "    </tr>\n",
       "    <tr>\n",
       "      <th>864691132640888901</th>\n",
       "      <td>1.0</td>\n",
       "      <td>1.0</td>\n",
       "      <td>1.0</td>\n",
       "    </tr>\n",
       "    <tr>\n",
       "      <th>864691132803297297</th>\n",
       "      <td>1.0</td>\n",
       "      <td>1.0</td>\n",
       "      <td>1.0</td>\n",
       "    </tr>\n",
       "    <tr>\n",
       "      <th>864691132839233701</th>\n",
       "      <td>1.0</td>\n",
       "      <td>1.0</td>\n",
       "      <td>1.0</td>\n",
       "    </tr>\n",
       "    <tr>\n",
       "      <th>864691133347768196</th>\n",
       "      <td>1.0</td>\n",
       "      <td>1.0</td>\n",
       "      <td>1.0</td>\n",
       "    </tr>\n",
       "    <tr>\n",
       "      <th>...</th>\n",
       "      <td>...</td>\n",
       "      <td>...</td>\n",
       "      <td>...</td>\n",
       "    </tr>\n",
       "    <tr>\n",
       "      <th>864691137197428289</th>\n",
       "      <td>1.0</td>\n",
       "      <td>1.0</td>\n",
       "      <td>1.0</td>\n",
       "    </tr>\n",
       "    <tr>\n",
       "      <th>864691137197431361</th>\n",
       "      <td>1.0</td>\n",
       "      <td>1.0</td>\n",
       "      <td>1.0</td>\n",
       "    </tr>\n",
       "    <tr>\n",
       "      <th>864691137197431617</th>\n",
       "      <td>1.0</td>\n",
       "      <td>1.0</td>\n",
       "      <td>1.0</td>\n",
       "    </tr>\n",
       "    <tr>\n",
       "      <th>864691137197432129</th>\n",
       "      <td>1.0</td>\n",
       "      <td>1.0</td>\n",
       "      <td>1.0</td>\n",
       "    </tr>\n",
       "    <tr>\n",
       "      <th>864691137197432385</th>\n",
       "      <td>1.0</td>\n",
       "      <td>1.0</td>\n",
       "      <td>1.0</td>\n",
       "    </tr>\n",
       "  </tbody>\n",
       "</table>\n",
       "<p>68494 rows × 3 columns</p>\n",
       "</div>"
      ],
      "text/plain": [
       "                    num_nuc_det  n_neuron_det  n_neuron_qc\n",
       "pt_root_id                                                \n",
       "0                       14305.0        6813.0          1.0\n",
       "864691132640888901          1.0           1.0          1.0\n",
       "864691132803297297          1.0           1.0          1.0\n",
       "864691132839233701          1.0           1.0          1.0\n",
       "864691133347768196          1.0           1.0          1.0\n",
       "...                         ...           ...          ...\n",
       "864691137197428289          1.0           1.0          1.0\n",
       "864691137197431361          1.0           1.0          1.0\n",
       "864691137197431617          1.0           1.0          1.0\n",
       "864691137197432129          1.0           1.0          1.0\n",
       "864691137197432385          1.0           1.0          1.0\n",
       "\n",
       "[68494 rows x 3 columns]"
      ]
     },
     "execution_count": 123,
     "metadata": {},
     "output_type": "execute_result"
    }
   ],
   "source": [
    "nuc_count.query('n_neuron_qc>0')"
   ]
  },
  {
   "cell_type": "code",
   "execution_count": 122,
   "id": "bbd0cd63",
   "metadata": {},
   "outputs": [
    {
     "data": {
      "text/plain": [
       "1.0       68091\n",
       "2.0         293\n",
       "3.0          47\n",
       "5.0          24\n",
       "4.0          16\n",
       "6.0          16\n",
       "7.0           3\n",
       "0.0           2\n",
       "6813.0        1\n",
       "181.0         1\n",
       "Name: n_neuron_det, dtype: int64"
      ]
     },
     "execution_count": 122,
     "metadata": {},
     "output_type": "execute_result"
    }
   ],
   "source": [
    "nuc_count.query('n_neuron_qc>0').n_neuron_det.value_counts()"
   ]
  },
  {
   "cell_type": "code",
   "execution_count": 37,
   "id": "e92d217c",
   "metadata": {},
   "outputs": [],
   "source": [
    "prf_df = client.materialize.query_table('proofreading_status_public_release', filter_equal_dict={'status_axon':'extended'})"
   ]
  },
  {
   "cell_type": "code",
   "execution_count": 38,
   "id": "84d7dbe0",
   "metadata": {},
   "outputs": [],
   "source": [
    "syn_dfs = client.materialize.synapse_query(pre_ids=prf_df.pt_root_id.values, timestamp=now)"
   ]
  },
  {
   "cell_type": "code",
   "execution_count": 39,
   "id": "e24c26a2",
   "metadata": {},
   "outputs": [],
   "source": [
    "syn_dfm = pd.merge(syn_dfs, nuc_count, left_on='post_pt_root_id', right_index=True, how='left')"
   ]
  },
  {
   "cell_type": "code",
   "execution_count": 47,
   "id": "6feaa7f7",
   "metadata": {},
   "outputs": [],
   "source": [
    "# this is calling anything which has exactly 1 nucleus detection the model called a neuron a single soma\n",
    "single_soma_syn=syn_dfm.n_neuron_det.value_counts()[1.0]"
   ]
  },
  {
   "cell_type": "code",
   "execution_count": 48,
   "id": "e1ded4b0",
   "metadata": {},
   "outputs": [
    {
     "data": {
      "text/plain": [
       "0.7226581437523567"
      ]
     },
     "execution_count": 48,
     "metadata": {},
     "output_type": "execute_result"
    }
   ],
   "source": [
    "single_soma_syn/len(syn_dfs)"
   ]
  },
  {
   "cell_type": "code",
   "execution_count": 55,
   "id": "e2a2c6a3",
   "metadata": {},
   "outputs": [],
   "source": [
    "# orphans don't map to an object with a neuronal nucleus\n",
    "orphan_syn = syn_dfm.n_neuron_det.isna().value_counts()[True]"
   ]
  },
  {
   "cell_type": "code",
   "execution_count": 57,
   "id": "87f7676e",
   "metadata": {},
   "outputs": [
    {
     "data": {
      "text/plain": [
       "0.2673585549350906"
      ]
     },
     "execution_count": 57,
     "metadata": {},
     "output_type": "execute_result"
    }
   ],
   "source": [
    "orphan_syn/len(syn_dfs)"
   ]
  },
  {
   "cell_type": "code",
   "execution_count": 58,
   "id": "68350892",
   "metadata": {},
   "outputs": [],
   "source": [
    "# multi soma synapses are non-orphan, non-single soma\n",
    "non_orphan = syn_dfm.n_neuron_det.isna().value_counts()[False]\n",
    "multi_soma_syn = non_orphan - single_soma_syn"
   ]
  },
  {
   "cell_type": "code",
   "execution_count": 60,
   "id": "6508adc7",
   "metadata": {},
   "outputs": [
    {
     "data": {
      "text/plain": [
       "0.009983301312552744"
      ]
     },
     "execution_count": 60,
     "metadata": {},
     "output_type": "execute_result"
    }
   ],
   "source": [
    "multi_soma_syn/len(syn_dfs)"
   ]
  },
  {
   "cell_type": "code",
   "execution_count": 61,
   "id": "cfc0cafa",
   "metadata": {},
   "outputs": [
    {
     "data": {
      "text/plain": [
       "True"
      ]
     },
     "execution_count": 61,
     "metadata": {},
     "output_type": "execute_result"
    }
   ],
   "source": [
    "# just to check it all adds up\n",
    "multi_soma_syn+orphan_syn+single_soma_syn == len(syn_dfs)"
   ]
  },
  {
   "cell_type": "code",
   "execution_count": 63,
   "id": "d30b6471",
   "metadata": {},
   "outputs": [
    {
     "data": {
      "text/plain": [
       "(0.7160017954569293, 0.04325728187189082)"
      ]
     },
     "execution_count": 63,
     "metadata": {},
     "output_type": "execute_result"
    }
   ],
   "source": [
    "# calculate a per cell version of single soma percentage\n",
    "single_soma_frac=syn_dfm.groupby('pre_pt_root_id')['n_neuron_det'].apply(lambda x: np.sum(x==1.0)/len(x))\n",
    "single_soma_frac.mean(), single_soma_frac.std()"
   ]
  },
  {
   "cell_type": "code",
   "execution_count": 64,
   "id": "535312bf",
   "metadata": {},
   "outputs": [
    {
     "data": {
      "text/plain": [
       "(0.27413325669930283, 0.04393389032526929)"
      ]
     },
     "execution_count": 64,
     "metadata": {},
     "output_type": "execute_result"
    }
   ],
   "source": [
    "# calculate a per cell version of single soma percentage\n",
    "single_soma_frac=syn_dfm.groupby('pre_pt_root_id')['n_neuron_det'].apply(lambda x: np.sum(x.isna())/len(x))\n",
    "single_soma_frac.mean(), single_soma_frac.std()"
   ]
  },
  {
   "cell_type": "code",
   "execution_count": 65,
   "id": "7d1a02ca",
   "metadata": {},
   "outputs": [
    {
     "data": {
      "text/plain": [
       "(0.00986494784376748, 0.007424089324136879)"
      ]
     },
     "execution_count": 65,
     "metadata": {},
     "output_type": "execute_result"
    }
   ],
   "source": [
    "# calculate a per cell version of single soma percentage\n",
    "single_soma_frac=syn_dfm.groupby('pre_pt_root_id')['n_neuron_det'].apply(lambda x: np.sum(x>1)/len(x))\n",
    "single_soma_frac.mean(), single_soma_frac.std()"
   ]
  },
  {
   "cell_type": "code",
   "execution_count": null,
   "id": "5754173f",
   "metadata": {},
   "outputs": [],
   "source": []
  },
  {
   "cell_type": "code",
   "execution_count": 100,
   "id": "83f39258",
   "metadata": {},
   "outputs": [
    {
     "data": {
      "text/plain": [
       "(0.0, 1.0)"
      ]
     },
     "execution_count": 100,
     "metadata": {},
     "output_type": "execute_result"
    },
    {
     "data": {
      "image/png": "[encoded data removed]",
      "text/plain": [
       "<Figure size 288x576 with 1 Axes>"
      ]
     },
     "metadata": {
      "needs_background": "light"
     },
     "output_type": "display_data"
    }
   ],
   "source": [
    "import matplotlib.pyplot as plt\n",
    "vals = [0.27413325669930283, 0.7160017954569293, 0.00986494784376748]\n",
    "f, ax = plt.subplots(figsize=(4,8))\n",
    "ax.bar(range(0,3),vals, facecolor='r')\n",
    "ax.set_xticks([0,1,2])\n",
    "ax.set_xticklabels(['orphan','single\\nsoma', '>1 soma'], size=16)\n",
    "ax.set_ylim([0,1])"
   ]
  },
  {
   "cell_type": "code",
   "execution_count": 67,
   "id": "21fc2937",
   "metadata": {},
   "outputs": [],
   "source": [
    "col_df = client.materialize.query_table('allen_v1_column_types_slanted')"
   ]
  },
  {
   "cell_type": "code",
   "execution_count": 102,
   "id": "16cca0ed",
   "metadata": {},
   "outputs": [
    {
     "data": {
      "text/plain": [
       "(41, 7)"
      ]
     },
     "execution_count": 102,
     "metadata": {},
     "output_type": "execute_result"
    }
   ],
   "source": [
    "col_df.query('cell_type==\"MC\"').shape"
   ]
  },
  {
   "cell_type": "code",
   "execution_count": 103,
   "id": "435c9286",
   "metadata": {},
   "outputs": [
    {
     "name": "stderr",
     "output_type": "stream",
     "text": [
      "/var/folders/kx/xq42kw197c5_qw6kxgnr4nkr0000gq/T/ipykernel_47987/2872441583.py:2: TqdmDeprecationWarning: This function will be removed in tqdm==5.0.0\n",
      "Please use `tqdm.notebook.tqdm` instead of `tqdm.tqdm_notebook`\n",
      "  for k, row in tqdm.tqdm_notebook(col_df.query('cell_type==\"MC\"').iterrows()):\n"
     ]
    },
    {
     "data": {
      "application/vnd.jupyter.widget-view+json": {
       "model_id": "05a4315208da40989d1df69d9446039a",
       "version_major": 2,
       "version_minor": 0
      },
      "text/plain": [
       "0it [00:00, ?it/s]"
      ]
     },
     "metadata": {},
     "output_type": "display_data"
    }
   ],
   "source": [
    "syn_dfs = []\n",
    "for k, row in tqdm.tqdm_notebook(col_df.query('cell_type==\"BC\"').iterrows()):\n",
    "    bc_df = client.materialize.synapse_query(pre_ids=row.pt_root_id, timestamp=now)\n",
    "    syn_dfs.append(bc_df)"
   ]
  },
  {
   "cell_type": "code",
   "execution_count": 104,
   "id": "0c5a96eb",
   "metadata": {},
   "outputs": [],
   "source": [
    "bc_df = pd.concat(syn_dfs)"
   ]
  },
  {
   "cell_type": "code",
   "execution_count": 105,
   "id": "2712ec68",
   "metadata": {},
   "outputs": [],
   "source": [
    "bc_dfm = pd.merge(bc_df, nuc_count, left_on='post_pt_root_id', right_index=True, how='left')"
   ]
  },
  {
   "cell_type": "code",
   "execution_count": 106,
   "id": "08ed0cf4",
   "metadata": {},
   "outputs": [
    {
     "data": {
      "text/plain": [
       "0.8540332680672417"
      ]
     },
     "execution_count": 106,
     "metadata": {},
     "output_type": "execute_result"
    }
   ],
   "source": [
    "# this is calling anything which has exactly 1 nucleus detection the model called a neuron a single soma\n",
    "single_soma_syn=bc_dfm.n_neuron_det.value_counts()[1.0]\n",
    "single_soma_syn/len(bc_dfm)"
   ]
  },
  {
   "cell_type": "code",
   "execution_count": 107,
   "id": "06c2dff3",
   "metadata": {},
   "outputs": [
    {
     "data": {
      "text/plain": [
       "0.14028681801344128"
      ]
     },
     "execution_count": 107,
     "metadata": {},
     "output_type": "execute_result"
    }
   ],
   "source": [
    "# orphans don't map to an object with a neuronal nucleus\n",
    "orphan_syn = bc_dfm.n_neuron_det.isna().value_counts()[True]\n",
    "orphan_syn/len(bc_dfm)"
   ]
  },
  {
   "cell_type": "code",
   "execution_count": 108,
   "id": "e1bc26b6",
   "metadata": {},
   "outputs": [],
   "source": [
    "# multi soma synapses are non-orphan, non-single soma\n",
    "non_orphan = bc_dfm.n_neuron_det.isna().value_counts()[False]\n",
    "multi_soma_syn = non_orphan - single_soma_syn"
   ]
  },
  {
   "cell_type": "code",
   "execution_count": 109,
   "id": "758cbd15",
   "metadata": {},
   "outputs": [
    {
     "data": {
      "text/plain": [
       "0.005679913919316999"
      ]
     },
     "execution_count": 109,
     "metadata": {},
     "output_type": "execute_result"
    }
   ],
   "source": [
    "multi_soma_syn/len(bc_dfm)"
   ]
  },
  {
   "cell_type": "code",
   "execution_count": 110,
   "id": "005ea333",
   "metadata": {},
   "outputs": [
    {
     "data": {
      "text/plain": [
       "(0.0, 1.0)"
      ]
     },
     "execution_count": 110,
     "metadata": {},
     "output_type": "execute_result"
    },
    {
     "data": {
      "image/png": "[encoded data removed]",
      "text/plain": [
       "<Figure size 288x576 with 1 Axes>"
      ]
     },
     "metadata": {
      "needs_background": "light"
     },
     "output_type": "display_data"
    }
   ],
   "source": [
    "import matplotlib.pyplot as plt\n",
    "vals = [0.14028681801344128, 0.8540332680672417, 0.005679913919316999]\n",
    "f, ax = plt.subplots(figsize=(4,8))\n",
    "ax.bar(range(0,3),vals, facecolor='r')\n",
    "ax.set_xticks([0,1,2])\n",
    "ax.set_xticklabels(['orphan','single\\nsoma', '>1 soma'], size=16)\n",
    "ax.set_ylim([0,1])"
   ]
  },
  {
   "cell_type": "code",
   "execution_count": null,
   "id": "c402ada7",
   "metadata": {},
   "outputs": [],
   "source": []
  }
 ],
 "metadata": {
  "kernelspec": {
   "display_name": "Python 3 (ipykernel)",
   "language": "python",
   "name": "python3"
  },
  "language_info": {
   "codemirror_mode": {
    "name": "ipython",
    "version": 3
   },
   "file_extension": ".py",
   "mimetype": "text/x-python",
   "name": "python",
   "nbconvert_exporter": "python",
   "pygments_lexer": "ipython3",
   "version": "3.9.0"
  }
 },
 "nbformat": 4,
 "nbformat_minor": 5
}
